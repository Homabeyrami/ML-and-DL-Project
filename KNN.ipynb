{
  "cells": [
    {
      "cell_type": "markdown",
      "metadata": {
        "id": "view-in-github",
        "colab_type": "text"
      },
      "source": [
        "<a href=\"https://colab.research.google.com/github/Homabeyrami/ML_Project_Pra/blob/main/DS02_Session01%2602_KNN.ipynb\" target=\"_parent\"><img src=\"https://colab.research.google.com/assets/colab-badge.svg\" alt=\"Open In Colab\"/></a>"
      ]
    },
    {
      "cell_type": "markdown",
      "source": [
        "#KNN\n",
        "This notebook contains:\n",
        "1. Iris (classifier)\n",
        "2. Persian Banking Cards' Digits (classifier)\n",
        "3. Advertising (Regressor)\n",
        "\n",
        "https://en.wikipedia.org/wiki/K-nearest_neighbors_algorithm\n",
        "\n",
        "* k-NN is used for classification or regression.\n",
        "* In k-NN **classification**, the output is a class membership. An object is classified by a *plurality vote* of its neighbors, with the object being assigned to the class most common among its k nearest neighbors.\n",
        "* In k-NN **regression**, the output is the property value for the object. This value is the *average* of the values of k nearest neighbors."
      ],
      "metadata": {
        "id": "ECpJ_Z8_-yEp"
      }
    },
    {
      "cell_type": "markdown",
      "source": [
        "##Dimension reduction\n",
        "For high-dimensional data (e.g., with number of dimensions more than 10) dimension reduction is usually performed prior to applying the k-NN algorithm in order to avoid the effects of the curse of dimensionality.\n",
        "\n",
        "The curse of dimensionality in the k-NN context basically means that Euclidean distance is unhelpful in high dimensions because all vectors are almost equidistant to the search query vector"
      ],
      "metadata": {
        "id": "3_Jpli3OCz4c"
      }
    },
    {
      "cell_type": "code",
      "execution_count": null,
      "metadata": {
        "id": "lIYdn1woOS1n"
      },
      "outputs": [],
      "source": [
        "import os #operation system\n",
        "import pandas as pd\n",
        "import numpy as np\n",
        "import matplotlib.pyplot as plt\n",
        "\n",
        "from sklearn.model_selection import train_test_split\n",
        "from scipy.stats import mode\n",
        "\n",
        "from sklearn.neighbors import KNeighborsClassifier\n",
        "from sklearn.metrics import classification_report\n",
        "\n",
        "from sklearn.neighbors import KNeighborsRegressor\n",
        "from sklearn.metrics import mean_squared_error\n",
        "from sklearn.metrics import r2_score\n",
        "\n",
        "from sklearn.model_selection import cross_val_score"
      ]
    },
    {
      "source": [
        "from google.colab import drive\n",
        "drive.mount('/content/drive')\n"
      ],
      "cell_type": "code",
      "metadata": {
        "colab": {
          "base_uri": "https://localhost:8080/"
        },
        "id": "1Gq7rKfQfXJh",
        "outputId": "d79a75d6-0e72-4401-d1a9-3e6a95a94502"
      },
      "execution_count": null,
      "outputs": [
        {
          "output_type": "stream",
          "name": "stdout",
          "text": [
            "Drive already mounted at /content/drive; to attempt to forcibly remount, call drive.mount(\"/content/drive\", force_remount=True).\n"
          ]
        }
      ]
    },
    {
      "source": [
        "#!unzip persian.zip\n",
        "!wget <link_to_persian_zip_file>"
      ],
      "cell_type": "code",
      "metadata": {
        "colab": {
          "base_uri": "https://localhost:8080/"
        },
        "id": "Uc33m0rRfwjU",
        "outputId": "115b8069-911e-40c8-c5f3-0a5943b74e04"
      },
      "execution_count": null,
      "outputs": [
        {
          "output_type": "stream",
          "name": "stdout",
          "text": [
            "/bin/bash: -c: line 1: syntax error near unexpected token `newline'\n",
            "/bin/bash: -c: line 1: `wget <link_to_persian_zip_file>'\n"
          ]
        }
      ]
    },
    {
      "cell_type": "code",
      "source": [
        "#Download data\n",
        "!gdown --id 1vZaPbRhfel2Y1uD5U0vi0zjCu58yYvS_"
      ],
      "metadata": {
        "id": "YRQz76t3RqcZ",
        "colab": {
          "base_uri": "https://localhost:8080/"
        },
        "outputId": "c598ffcd-c4a2-468b-818a-978c4f05e5e7"
      },
      "execution_count": null,
      "outputs": [
        {
          "output_type": "stream",
          "name": "stdout",
          "text": [
            "/usr/local/lib/python3.10/dist-packages/gdown/__main__.py:132: FutureWarning: Option `--id` was deprecated in version 4.3.1 and will be removed in 5.0. You don't need to pass it anymore to use a file ID.\n",
            "  warnings.warn(\n",
            "Downloading...\n",
            "From: https://drive.google.com/uc?id=1vZaPbRhfel2Y1uD5U0vi0zjCu58yYvS_\n",
            "To: /content/Iris.csv\n",
            "100% 5.11k/5.11k [00:00<00:00, 19.1MB/s]\n"
          ]
        }
      ]
    },
    {
      "cell_type": "code",
      "source": [
        "#read csv file\n",
        "df = pd.read_csv('Iris.csv')"
      ],
      "metadata": {
        "id": "_oz75WfWRpSz"
      },
      "execution_count": null,
      "outputs": []
    },
    {
      "cell_type": "code",
      "source": [
        "#check how data looks\n",
        "df.sample(5)"
      ],
      "metadata": {
        "id": "Y4PrlCDPSAB7",
        "colab": {
          "base_uri": "https://localhost:8080/",
          "height": 206
        },
        "outputId": "436343e9-bd7f-4dde-f52b-9d1f3305338b"
      },
      "execution_count": null,
      "outputs": [
        {
          "output_type": "execute_result",
          "data": {
            "text/plain": [
              "      Id  SepalLengthCm  SepalWidthCm  PetalLengthCm  PetalWidthCm  \\\n",
              "64    65            5.6           2.9            3.6           1.3   \n",
              "21    22            5.1           3.7            1.5           0.4   \n",
              "109  110            7.2           3.6            6.1           2.5   \n",
              "63    64            6.1           2.9            4.7           1.4   \n",
              "140  141            6.7           3.1            5.6           2.4   \n",
              "\n",
              "             Species  \n",
              "64   Iris-versicolor  \n",
              "21       Iris-setosa  \n",
              "109   Iris-virginica  \n",
              "63   Iris-versicolor  \n",
              "140   Iris-virginica  "
            ],
            "text/html": [
              "\n",
              "  <div id=\"df-7bfad872-4784-4441-b44e-d114598a517a\" class=\"colab-df-container\">\n",
              "    <div>\n",
              "<style scoped>\n",
              "    .dataframe tbody tr th:only-of-type {\n",
              "        vertical-align: middle;\n",
              "    }\n",
              "\n",
              "    .dataframe tbody tr th {\n",
              "        vertical-align: top;\n",
              "    }\n",
              "\n",
              "    .dataframe thead th {\n",
              "        text-align: right;\n",
              "    }\n",
              "</style>\n",
              "<table border=\"1\" class=\"dataframe\">\n",
              "  <thead>\n",
              "    <tr style=\"text-align: right;\">\n",
              "      <th></th>\n",
              "      <th>Id</th>\n",
              "      <th>SepalLengthCm</th>\n",
              "      <th>SepalWidthCm</th>\n",
              "      <th>PetalLengthCm</th>\n",
              "      <th>PetalWidthCm</th>\n",
              "      <th>Species</th>\n",
              "    </tr>\n",
              "  </thead>\n",
              "  <tbody>\n",
              "    <tr>\n",
              "      <th>64</th>\n",
              "      <td>65</td>\n",
              "      <td>5.6</td>\n",
              "      <td>2.9</td>\n",
              "      <td>3.6</td>\n",
              "      <td>1.3</td>\n",
              "      <td>Iris-versicolor</td>\n",
              "    </tr>\n",
              "    <tr>\n",
              "      <th>21</th>\n",
              "      <td>22</td>\n",
              "      <td>5.1</td>\n",
              "      <td>3.7</td>\n",
              "      <td>1.5</td>\n",
              "      <td>0.4</td>\n",
              "      <td>Iris-setosa</td>\n",
              "    </tr>\n",
              "    <tr>\n",
              "      <th>109</th>\n",
              "      <td>110</td>\n",
              "      <td>7.2</td>\n",
              "      <td>3.6</td>\n",
              "      <td>6.1</td>\n",
              "      <td>2.5</td>\n",
              "      <td>Iris-virginica</td>\n",
              "    </tr>\n",
              "    <tr>\n",
              "      <th>63</th>\n",
              "      <td>64</td>\n",
              "      <td>6.1</td>\n",
              "      <td>2.9</td>\n",
              "      <td>4.7</td>\n",
              "      <td>1.4</td>\n",
              "      <td>Iris-versicolor</td>\n",
              "    </tr>\n",
              "    <tr>\n",
              "      <th>140</th>\n",
              "      <td>141</td>\n",
              "      <td>6.7</td>\n",
              "      <td>3.1</td>\n",
              "      <td>5.6</td>\n",
              "      <td>2.4</td>\n",
              "      <td>Iris-virginica</td>\n",
              "    </tr>\n",
              "  </tbody>\n",
              "</table>\n",
              "</div>\n",
              "    <div class=\"colab-df-buttons\">\n",
              "\n",
              "  <div class=\"colab-df-container\">\n",
              "    <button class=\"colab-df-convert\" onclick=\"convertToInteractive('df-7bfad872-4784-4441-b44e-d114598a517a')\"\n",
              "            title=\"Convert this dataframe to an interactive table.\"\n",
              "            style=\"display:none;\">\n",
              "\n",
              "  <svg xmlns=\"http://www.w3.org/2000/svg\" height=\"24px\" viewBox=\"0 -960 960 960\">\n",
              "    <path d=\"M120-120v-720h720v720H120Zm60-500h600v-160H180v160Zm220 220h160v-160H400v160Zm0 220h160v-160H400v160ZM180-400h160v-160H180v160Zm440 0h160v-160H620v160ZM180-180h160v-160H180v160Zm440 0h160v-160H620v160Z\"/>\n",
              "  </svg>\n",
              "    </button>\n",
              "\n",
              "  <style>\n",
              "    .colab-df-container {\n",
              "      display:flex;\n",
              "      gap: 12px;\n",
              "    }\n",
              "\n",
              "    .colab-df-convert {\n",
              "      background-color: #E8F0FE;\n",
              "      border: none;\n",
              "      border-radius: 50%;\n",
              "      cursor: pointer;\n",
              "      display: none;\n",
              "      fill: #1967D2;\n",
              "      height: 32px;\n",
              "      padding: 0 0 0 0;\n",
              "      width: 32px;\n",
              "    }\n",
              "\n",
              "    .colab-df-convert:hover {\n",
              "      background-color: #E2EBFA;\n",
              "      box-shadow: 0px 1px 2px rgba(60, 64, 67, 0.3), 0px 1px 3px 1px rgba(60, 64, 67, 0.15);\n",
              "      fill: #174EA6;\n",
              "    }\n",
              "\n",
              "    .colab-df-buttons div {\n",
              "      margin-bottom: 4px;\n",
              "    }\n",
              "\n",
              "    [theme=dark] .colab-df-convert {\n",
              "      background-color: #3B4455;\n",
              "      fill: #D2E3FC;\n",
              "    }\n",
              "\n",
              "    [theme=dark] .colab-df-convert:hover {\n",
              "      background-color: #434B5C;\n",
              "      box-shadow: 0px 1px 3px 1px rgba(0, 0, 0, 0.15);\n",
              "      filter: drop-shadow(0px 1px 2px rgba(0, 0, 0, 0.3));\n",
              "      fill: #FFFFFF;\n",
              "    }\n",
              "  </style>\n",
              "\n",
              "    <script>\n",
              "      const buttonEl =\n",
              "        document.querySelector('#df-7bfad872-4784-4441-b44e-d114598a517a button.colab-df-convert');\n",
              "      buttonEl.style.display =\n",
              "        google.colab.kernel.accessAllowed ? 'block' : 'none';\n",
              "\n",
              "      async function convertToInteractive(key) {\n",
              "        const element = document.querySelector('#df-7bfad872-4784-4441-b44e-d114598a517a');\n",
              "        const dataTable =\n",
              "          await google.colab.kernel.invokeFunction('convertToInteractive',\n",
              "                                                    [key], {});\n",
              "        if (!dataTable) return;\n",
              "\n",
              "        const docLinkHtml = 'Like what you see? Visit the ' +\n",
              "          '<a target=\"_blank\" href=https://colab.research.google.com/notebooks/data_table.ipynb>data table notebook</a>'\n",
              "          + ' to learn more about interactive tables.';\n",
              "        element.innerHTML = '';\n",
              "        dataTable['output_type'] = 'display_data';\n",
              "        await google.colab.output.renderOutput(dataTable, element);\n",
              "        const docLink = document.createElement('div');\n",
              "        docLink.innerHTML = docLinkHtml;\n",
              "        element.appendChild(docLink);\n",
              "      }\n",
              "    </script>\n",
              "  </div>\n",
              "\n",
              "\n",
              "<div id=\"df-58444702-5afb-4e67-9379-e40ede4b61d8\">\n",
              "  <button class=\"colab-df-quickchart\" onclick=\"quickchart('df-58444702-5afb-4e67-9379-e40ede4b61d8')\"\n",
              "            title=\"Suggest charts\"\n",
              "            style=\"display:none;\">\n",
              "\n",
              "<svg xmlns=\"http://www.w3.org/2000/svg\" height=\"24px\"viewBox=\"0 0 24 24\"\n",
              "     width=\"24px\">\n",
              "    <g>\n",
              "        <path d=\"M19 3H5c-1.1 0-2 .9-2 2v14c0 1.1.9 2 2 2h14c1.1 0 2-.9 2-2V5c0-1.1-.9-2-2-2zM9 17H7v-7h2v7zm4 0h-2V7h2v10zm4 0h-2v-4h2v4z\"/>\n",
              "    </g>\n",
              "</svg>\n",
              "  </button>\n",
              "\n",
              "<style>\n",
              "  .colab-df-quickchart {\n",
              "      --bg-color: #E8F0FE;\n",
              "      --fill-color: #1967D2;\n",
              "      --hover-bg-color: #E2EBFA;\n",
              "      --hover-fill-color: #174EA6;\n",
              "      --disabled-fill-color: #AAA;\n",
              "      --disabled-bg-color: #DDD;\n",
              "  }\n",
              "\n",
              "  [theme=dark] .colab-df-quickchart {\n",
              "      --bg-color: #3B4455;\n",
              "      --fill-color: #D2E3FC;\n",
              "      --hover-bg-color: #434B5C;\n",
              "      --hover-fill-color: #FFFFFF;\n",
              "      --disabled-bg-color: #3B4455;\n",
              "      --disabled-fill-color: #666;\n",
              "  }\n",
              "\n",
              "  .colab-df-quickchart {\n",
              "    background-color: var(--bg-color);\n",
              "    border: none;\n",
              "    border-radius: 50%;\n",
              "    cursor: pointer;\n",
              "    display: none;\n",
              "    fill: var(--fill-color);\n",
              "    height: 32px;\n",
              "    padding: 0;\n",
              "    width: 32px;\n",
              "  }\n",
              "\n",
              "  .colab-df-quickchart:hover {\n",
              "    background-color: var(--hover-bg-color);\n",
              "    box-shadow: 0 1px 2px rgba(60, 64, 67, 0.3), 0 1px 3px 1px rgba(60, 64, 67, 0.15);\n",
              "    fill: var(--button-hover-fill-color);\n",
              "  }\n",
              "\n",
              "  .colab-df-quickchart-complete:disabled,\n",
              "  .colab-df-quickchart-complete:disabled:hover {\n",
              "    background-color: var(--disabled-bg-color);\n",
              "    fill: var(--disabled-fill-color);\n",
              "    box-shadow: none;\n",
              "  }\n",
              "\n",
              "  .colab-df-spinner {\n",
              "    border: 2px solid var(--fill-color);\n",
              "    border-color: transparent;\n",
              "    border-bottom-color: var(--fill-color);\n",
              "    animation:\n",
              "      spin 1s steps(1) infinite;\n",
              "  }\n",
              "\n",
              "  @keyframes spin {\n",
              "    0% {\n",
              "      border-color: transparent;\n",
              "      border-bottom-color: var(--fill-color);\n",
              "      border-left-color: var(--fill-color);\n",
              "    }\n",
              "    20% {\n",
              "      border-color: transparent;\n",
              "      border-left-color: var(--fill-color);\n",
              "      border-top-color: var(--fill-color);\n",
              "    }\n",
              "    30% {\n",
              "      border-color: transparent;\n",
              "      border-left-color: var(--fill-color);\n",
              "      border-top-color: var(--fill-color);\n",
              "      border-right-color: var(--fill-color);\n",
              "    }\n",
              "    40% {\n",
              "      border-color: transparent;\n",
              "      border-right-color: var(--fill-color);\n",
              "      border-top-color: var(--fill-color);\n",
              "    }\n",
              "    60% {\n",
              "      border-color: transparent;\n",
              "      border-right-color: var(--fill-color);\n",
              "    }\n",
              "    80% {\n",
              "      border-color: transparent;\n",
              "      border-right-color: var(--fill-color);\n",
              "      border-bottom-color: var(--fill-color);\n",
              "    }\n",
              "    90% {\n",
              "      border-color: transparent;\n",
              "      border-bottom-color: var(--fill-color);\n",
              "    }\n",
              "  }\n",
              "</style>\n",
              "\n",
              "  <script>\n",
              "    async function quickchart(key) {\n",
              "      const quickchartButtonEl =\n",
              "        document.querySelector('#' + key + ' button');\n",
              "      quickchartButtonEl.disabled = true;  // To prevent multiple clicks.\n",
              "      quickchartButtonEl.classList.add('colab-df-spinner');\n",
              "      try {\n",
              "        const charts = await google.colab.kernel.invokeFunction(\n",
              "            'suggestCharts', [key], {});\n",
              "      } catch (error) {\n",
              "        console.error('Error during call to suggestCharts:', error);\n",
              "      }\n",
              "      quickchartButtonEl.classList.remove('colab-df-spinner');\n",
              "      quickchartButtonEl.classList.add('colab-df-quickchart-complete');\n",
              "    }\n",
              "    (() => {\n",
              "      let quickchartButtonEl =\n",
              "        document.querySelector('#df-58444702-5afb-4e67-9379-e40ede4b61d8 button');\n",
              "      quickchartButtonEl.style.display =\n",
              "        google.colab.kernel.accessAllowed ? 'block' : 'none';\n",
              "    })();\n",
              "  </script>\n",
              "</div>\n",
              "\n",
              "    </div>\n",
              "  </div>\n"
            ],
            "application/vnd.google.colaboratory.intrinsic+json": {
              "type": "dataframe",
              "summary": "{\n  \"name\": \"df\",\n  \"rows\": 5,\n  \"fields\": [\n    {\n      \"column\": \"Id\",\n      \"properties\": {\n        \"dtype\": \"number\",\n        \"std\": 46,\n        \"min\": 22,\n        \"max\": 141,\n        \"num_unique_values\": 5,\n        \"samples\": [\n          22,\n          141,\n          110\n        ],\n        \"semantic_type\": \"\",\n        \"description\": \"\"\n      }\n    },\n    {\n      \"column\": \"SepalLengthCm\",\n      \"properties\": {\n        \"dtype\": \"number\",\n        \"std\": 0.8384509526501835,\n        \"min\": 5.1,\n        \"max\": 7.2,\n        \"num_unique_values\": 5,\n        \"samples\": [\n          5.1,\n          6.7,\n          7.2\n        ],\n        \"semantic_type\": \"\",\n        \"description\": \"\"\n      }\n    },\n    {\n      \"column\": \"SepalWidthCm\",\n      \"properties\": {\n        \"dtype\": \"number\",\n        \"std\": 0.384707681233427,\n        \"min\": 2.9,\n        \"max\": 3.7,\n        \"num_unique_values\": 4,\n        \"samples\": [\n          3.7,\n          3.1,\n          2.9\n        ],\n        \"semantic_type\": \"\",\n        \"description\": \"\"\n      }\n    },\n    {\n      \"column\": \"PetalLengthCm\",\n      \"properties\": {\n        \"dtype\": \"number\",\n        \"std\": 1.83166590840142,\n        \"min\": 1.5,\n        \"max\": 6.1,\n        \"num_unique_values\": 5,\n        \"samples\": [\n          1.5,\n          5.6,\n          6.1\n        ],\n        \"semantic_type\": \"\",\n        \"description\": \"\"\n      }\n    },\n    {\n      \"column\": \"PetalWidthCm\",\n      \"properties\": {\n        \"dtype\": \"number\",\n        \"std\": 0.8689073598491384,\n        \"min\": 0.4,\n        \"max\": 2.5,\n        \"num_unique_values\": 5,\n        \"samples\": [\n          0.4,\n          2.4,\n          2.5\n        ],\n        \"semantic_type\": \"\",\n        \"description\": \"\"\n      }\n    },\n    {\n      \"column\": \"Species\",\n      \"properties\": {\n        \"dtype\": \"string\",\n        \"num_unique_values\": 3,\n        \"samples\": [\n          \"Iris-versicolor\",\n          \"Iris-setosa\",\n          \"Iris-virginica\"\n        ],\n        \"semantic_type\": \"\",\n        \"description\": \"\"\n      }\n    }\n  ]\n}"
            }
          },
          "metadata": {},
          "execution_count": 90
        }
      ]
    },
    {
      "cell_type": "code",
      "source": [
        "df.info()"
      ],
      "metadata": {
        "colab": {
          "base_uri": "https://localhost:8080/"
        },
        "id": "MqUok-0R_LlT",
        "outputId": "6e33b40a-d1ea-4bc8-8be5-1a327ca9c792"
      },
      "execution_count": null,
      "outputs": [
        {
          "output_type": "stream",
          "name": "stdout",
          "text": [
            "<class 'pandas.core.frame.DataFrame'>\n",
            "RangeIndex: 150 entries, 0 to 149\n",
            "Data columns (total 6 columns):\n",
            " #   Column         Non-Null Count  Dtype  \n",
            "---  ------         --------------  -----  \n",
            " 0   Id             150 non-null    int64  \n",
            " 1   SepalLengthCm  150 non-null    float64\n",
            " 2   SepalWidthCm   150 non-null    float64\n",
            " 3   PetalLengthCm  150 non-null    float64\n",
            " 4   PetalWidthCm   150 non-null    float64\n",
            " 5   Species        150 non-null    object \n",
            "dtypes: float64(4), int64(1), object(1)\n",
            "memory usage: 7.2+ KB\n"
          ]
        }
      ]
    },
    {
      "cell_type": "code",
      "source": [
        "#change the target to categorical\n",
        "target = df['Species'].astype('category')"
      ],
      "metadata": {
        "id": "Ct0XoATMSY85"
      },
      "execution_count": null,
      "outputs": []
    },
    {
      "cell_type": "code",
      "source": [
        "type(target)"
      ],
      "metadata": {
        "colab": {
          "base_uri": "https://localhost:8080/",
          "height": 203
        },
        "id": "QM-s4THc_gTR",
        "outputId": "b8a81f62-8849-421b-fb83-d9e0bab396a7"
      },
      "execution_count": null,
      "outputs": [
        {
          "output_type": "execute_result",
          "data": {
            "text/plain": [
              "pandas.core.series.Series"
            ],
            "text/html": [
              "<div style=\"max-width:800px; border: 1px solid var(--colab-border-color);\"><style>\n",
              "      pre.function-repr-contents {\n",
              "        overflow-x: auto;\n",
              "        padding: 8px 12px;\n",
              "        max-height: 500px;\n",
              "      }\n",
              "\n",
              "      pre.function-repr-contents.function-repr-contents-collapsed {\n",
              "        cursor: pointer;\n",
              "        max-height: 100px;\n",
              "      }\n",
              "    </style>\n",
              "    <pre style=\"white-space: initial; background:\n",
              "         var(--colab-secondary-surface-color); padding: 8px 12px;\n",
              "         border-bottom: 1px solid var(--colab-border-color);\"><b>pandas.core.series.Series</b><br/>def __init__(data=None, index=None, dtype: Dtype | None=None, name=None, copy: bool | None=None, fastpath: bool=False) -&gt; None</pre><pre class=\"function-repr-contents function-repr-contents-collapsed\" style=\"\"><a class=\"filepath\" style=\"display:none\" href=\"#\">/usr/local/lib/python3.10/dist-packages/pandas/core/series.py</a>One-dimensional ndarray with axis labels (including time series).\n",
              "\n",
              "Labels need not be unique but must be a hashable type. The object\n",
              "supports both integer- and label-based indexing and provides a host of\n",
              "methods for performing operations involving the index. Statistical\n",
              "methods from ndarray have been overridden to automatically exclude\n",
              "missing data (currently represented as NaN).\n",
              "\n",
              "Operations between Series (+, -, /, \\*, \\*\\*) align values based on their\n",
              "associated index values-- they need not be the same length. The result\n",
              "index will be the sorted union of the two indexes.\n",
              "\n",
              "Parameters\n",
              "----------\n",
              "data : array-like, Iterable, dict, or scalar value\n",
              "    Contains data stored in Series. If data is a dict, argument order is\n",
              "    maintained.\n",
              "index : array-like or Index (1d)\n",
              "    Values must be hashable and have the same length as `data`.\n",
              "    Non-unique index values are allowed. Will default to\n",
              "    RangeIndex (0, 1, 2, ..., n) if not provided. If data is dict-like\n",
              "    and index is None, then the keys in the data are used as the index. If the\n",
              "    index is not None, the resulting Series is reindexed with the index values.\n",
              "dtype : str, numpy.dtype, or ExtensionDtype, optional\n",
              "    Data type for the output Series. If not specified, this will be\n",
              "    inferred from `data`.\n",
              "    See the :ref:`user guide &lt;basics.dtypes&gt;` for more usages.\n",
              "name : Hashable, default None\n",
              "    The name to give to the Series.\n",
              "copy : bool, default False\n",
              "    Copy input data. Only affects Series or 1d ndarray input. See examples.\n",
              "\n",
              "Notes\n",
              "-----\n",
              "Please reference the :ref:`User Guide &lt;basics.series&gt;` for more information.\n",
              "\n",
              "Examples\n",
              "--------\n",
              "Constructing Series from a dictionary with an Index specified\n",
              "\n",
              "&gt;&gt;&gt; d = {&#x27;a&#x27;: 1, &#x27;b&#x27;: 2, &#x27;c&#x27;: 3}\n",
              "&gt;&gt;&gt; ser = pd.Series(data=d, index=[&#x27;a&#x27;, &#x27;b&#x27;, &#x27;c&#x27;])\n",
              "&gt;&gt;&gt; ser\n",
              "a   1\n",
              "b   2\n",
              "c   3\n",
              "dtype: int64\n",
              "\n",
              "The keys of the dictionary match with the Index values, hence the Index\n",
              "values have no effect.\n",
              "\n",
              "&gt;&gt;&gt; d = {&#x27;a&#x27;: 1, &#x27;b&#x27;: 2, &#x27;c&#x27;: 3}\n",
              "&gt;&gt;&gt; ser = pd.Series(data=d, index=[&#x27;x&#x27;, &#x27;y&#x27;, &#x27;z&#x27;])\n",
              "&gt;&gt;&gt; ser\n",
              "x   NaN\n",
              "y   NaN\n",
              "z   NaN\n",
              "dtype: float64\n",
              "\n",
              "Note that the Index is first build with the keys from the dictionary.\n",
              "After this the Series is reindexed with the given Index values, hence we\n",
              "get all NaN as a result.\n",
              "\n",
              "Constructing Series from a list with `copy=False`.\n",
              "\n",
              "&gt;&gt;&gt; r = [1, 2]\n",
              "&gt;&gt;&gt; ser = pd.Series(r, copy=False)\n",
              "&gt;&gt;&gt; ser.iloc[0] = 999\n",
              "&gt;&gt;&gt; r\n",
              "[1, 2]\n",
              "&gt;&gt;&gt; ser\n",
              "0    999\n",
              "1      2\n",
              "dtype: int64\n",
              "\n",
              "Due to input data type the Series has a `copy` of\n",
              "the original data even though `copy=False`, so\n",
              "the data is unchanged.\n",
              "\n",
              "Constructing Series from a 1d ndarray with `copy=False`.\n",
              "\n",
              "&gt;&gt;&gt; r = np.array([1, 2])\n",
              "&gt;&gt;&gt; ser = pd.Series(r, copy=False)\n",
              "&gt;&gt;&gt; ser.iloc[0] = 999\n",
              "&gt;&gt;&gt; r\n",
              "array([999,   2])\n",
              "&gt;&gt;&gt; ser\n",
              "0    999\n",
              "1      2\n",
              "dtype: int64\n",
              "\n",
              "Due to input data type the Series has a `view` on\n",
              "the original data, so\n",
              "the data is changed as well.</pre>\n",
              "      <script>\n",
              "      if (google.colab.kernel.accessAllowed && google.colab.files && google.colab.files.view) {\n",
              "        for (const element of document.querySelectorAll('.filepath')) {\n",
              "          element.style.display = 'block'\n",
              "          element.onclick = (event) => {\n",
              "            event.preventDefault();\n",
              "            event.stopPropagation();\n",
              "            google.colab.files.view(element.textContent, 244);\n",
              "          };\n",
              "        }\n",
              "      }\n",
              "      for (const element of document.querySelectorAll('.function-repr-contents')) {\n",
              "        element.onclick = (event) => {\n",
              "          event.preventDefault();\n",
              "          event.stopPropagation();\n",
              "          element.classList.toggle('function-repr-contents-collapsed');\n",
              "        };\n",
              "      }\n",
              "      </script>\n",
              "      </div>"
            ]
          },
          "metadata": {},
          "execution_count": 93
        }
      ]
    },
    {
      "cell_type": "code",
      "source": [
        "target = target.cat.codes"
      ],
      "metadata": {
        "id": "L4WctB8xTPBE"
      },
      "execution_count": null,
      "outputs": []
    },
    {
      "cell_type": "code",
      "source": [
        "#drop the extra columns\n",
        "data = df.drop(columns=['Id', 'Species'], axis=1)"
      ],
      "metadata": {
        "id": "WzOK-50WR7Rz"
      },
      "execution_count": null,
      "outputs": []
    },
    {
      "cell_type": "code",
      "source": [
        "#check again the feature table\n",
        "data.head(1)"
      ],
      "metadata": {
        "id": "pIReIpbNSB-S",
        "colab": {
          "base_uri": "https://localhost:8080/",
          "height": 80
        },
        "outputId": "91cfd777-f22c-43bd-9b78-c2c008b0c4ce"
      },
      "execution_count": null,
      "outputs": [
        {
          "output_type": "execute_result",
          "data": {
            "text/plain": [
              "   SepalLengthCm  SepalWidthCm  PetalLengthCm  PetalWidthCm\n",
              "0            5.1           3.5            1.4           0.2"
            ],
            "text/html": [
              "\n",
              "  <div id=\"df-9db6dd47-d8cc-4752-b7c1-f1d7fdea2d43\" class=\"colab-df-container\">\n",
              "    <div>\n",
              "<style scoped>\n",
              "    .dataframe tbody tr th:only-of-type {\n",
              "        vertical-align: middle;\n",
              "    }\n",
              "\n",
              "    .dataframe tbody tr th {\n",
              "        vertical-align: top;\n",
              "    }\n",
              "\n",
              "    .dataframe thead th {\n",
              "        text-align: right;\n",
              "    }\n",
              "</style>\n",
              "<table border=\"1\" class=\"dataframe\">\n",
              "  <thead>\n",
              "    <tr style=\"text-align: right;\">\n",
              "      <th></th>\n",
              "      <th>SepalLengthCm</th>\n",
              "      <th>SepalWidthCm</th>\n",
              "      <th>PetalLengthCm</th>\n",
              "      <th>PetalWidthCm</th>\n",
              "    </tr>\n",
              "  </thead>\n",
              "  <tbody>\n",
              "    <tr>\n",
              "      <th>0</th>\n",
              "      <td>5.1</td>\n",
              "      <td>3.5</td>\n",
              "      <td>1.4</td>\n",
              "      <td>0.2</td>\n",
              "    </tr>\n",
              "  </tbody>\n",
              "</table>\n",
              "</div>\n",
              "    <div class=\"colab-df-buttons\">\n",
              "\n",
              "  <div class=\"colab-df-container\">\n",
              "    <button class=\"colab-df-convert\" onclick=\"convertToInteractive('df-9db6dd47-d8cc-4752-b7c1-f1d7fdea2d43')\"\n",
              "            title=\"Convert this dataframe to an interactive table.\"\n",
              "            style=\"display:none;\">\n",
              "\n",
              "  <svg xmlns=\"http://www.w3.org/2000/svg\" height=\"24px\" viewBox=\"0 -960 960 960\">\n",
              "    <path d=\"M120-120v-720h720v720H120Zm60-500h600v-160H180v160Zm220 220h160v-160H400v160Zm0 220h160v-160H400v160ZM180-400h160v-160H180v160Zm440 0h160v-160H620v160ZM180-180h160v-160H180v160Zm440 0h160v-160H620v160Z\"/>\n",
              "  </svg>\n",
              "    </button>\n",
              "\n",
              "  <style>\n",
              "    .colab-df-container {\n",
              "      display:flex;\n",
              "      gap: 12px;\n",
              "    }\n",
              "\n",
              "    .colab-df-convert {\n",
              "      background-color: #E8F0FE;\n",
              "      border: none;\n",
              "      border-radius: 50%;\n",
              "      cursor: pointer;\n",
              "      display: none;\n",
              "      fill: #1967D2;\n",
              "      height: 32px;\n",
              "      padding: 0 0 0 0;\n",
              "      width: 32px;\n",
              "    }\n",
              "\n",
              "    .colab-df-convert:hover {\n",
              "      background-color: #E2EBFA;\n",
              "      box-shadow: 0px 1px 2px rgba(60, 64, 67, 0.3), 0px 1px 3px 1px rgba(60, 64, 67, 0.15);\n",
              "      fill: #174EA6;\n",
              "    }\n",
              "\n",
              "    .colab-df-buttons div {\n",
              "      margin-bottom: 4px;\n",
              "    }\n",
              "\n",
              "    [theme=dark] .colab-df-convert {\n",
              "      background-color: #3B4455;\n",
              "      fill: #D2E3FC;\n",
              "    }\n",
              "\n",
              "    [theme=dark] .colab-df-convert:hover {\n",
              "      background-color: #434B5C;\n",
              "      box-shadow: 0px 1px 3px 1px rgba(0, 0, 0, 0.15);\n",
              "      filter: drop-shadow(0px 1px 2px rgba(0, 0, 0, 0.3));\n",
              "      fill: #FFFFFF;\n",
              "    }\n",
              "  </style>\n",
              "\n",
              "    <script>\n",
              "      const buttonEl =\n",
              "        document.querySelector('#df-9db6dd47-d8cc-4752-b7c1-f1d7fdea2d43 button.colab-df-convert');\n",
              "      buttonEl.style.display =\n",
              "        google.colab.kernel.accessAllowed ? 'block' : 'none';\n",
              "\n",
              "      async function convertToInteractive(key) {\n",
              "        const element = document.querySelector('#df-9db6dd47-d8cc-4752-b7c1-f1d7fdea2d43');\n",
              "        const dataTable =\n",
              "          await google.colab.kernel.invokeFunction('convertToInteractive',\n",
              "                                                    [key], {});\n",
              "        if (!dataTable) return;\n",
              "\n",
              "        const docLinkHtml = 'Like what you see? Visit the ' +\n",
              "          '<a target=\"_blank\" href=https://colab.research.google.com/notebooks/data_table.ipynb>data table notebook</a>'\n",
              "          + ' to learn more about interactive tables.';\n",
              "        element.innerHTML = '';\n",
              "        dataTable['output_type'] = 'display_data';\n",
              "        await google.colab.output.renderOutput(dataTable, element);\n",
              "        const docLink = document.createElement('div');\n",
              "        docLink.innerHTML = docLinkHtml;\n",
              "        element.appendChild(docLink);\n",
              "      }\n",
              "    </script>\n",
              "  </div>\n",
              "\n",
              "\n",
              "    </div>\n",
              "  </div>\n"
            ],
            "application/vnd.google.colaboratory.intrinsic+json": {
              "type": "dataframe",
              "variable_name": "data",
              "summary": "{\n  \"name\": \"data\",\n  \"rows\": 150,\n  \"fields\": [\n    {\n      \"column\": \"SepalLengthCm\",\n      \"properties\": {\n        \"dtype\": \"number\",\n        \"std\": 0.828066127977863,\n        \"min\": 4.3,\n        \"max\": 7.9,\n        \"num_unique_values\": 35,\n        \"samples\": [\n          6.2,\n          4.5,\n          5.6\n        ],\n        \"semantic_type\": \"\",\n        \"description\": \"\"\n      }\n    },\n    {\n      \"column\": \"SepalWidthCm\",\n      \"properties\": {\n        \"dtype\": \"number\",\n        \"std\": 0.4335943113621737,\n        \"min\": 2.0,\n        \"max\": 4.4,\n        \"num_unique_values\": 23,\n        \"samples\": [\n          2.3,\n          4.0,\n          3.5\n        ],\n        \"semantic_type\": \"\",\n        \"description\": \"\"\n      }\n    },\n    {\n      \"column\": \"PetalLengthCm\",\n      \"properties\": {\n        \"dtype\": \"number\",\n        \"std\": 1.7644204199522626,\n        \"min\": 1.0,\n        \"max\": 6.9,\n        \"num_unique_values\": 43,\n        \"samples\": [\n          6.7,\n          3.8,\n          3.7\n        ],\n        \"semantic_type\": \"\",\n        \"description\": \"\"\n      }\n    },\n    {\n      \"column\": \"PetalWidthCm\",\n      \"properties\": {\n        \"dtype\": \"number\",\n        \"std\": 0.7631607417008411,\n        \"min\": 0.1,\n        \"max\": 2.5,\n        \"num_unique_values\": 22,\n        \"samples\": [\n          0.2,\n          1.2,\n          1.3\n        ],\n        \"semantic_type\": \"\",\n        \"description\": \"\"\n      }\n    }\n  ]\n}"
            }
          },
          "metadata": {},
          "execution_count": 96
        }
      ]
    },
    {
      "cell_type": "code",
      "source": [
        "#train-test split\n",
        "X_train, X_test, y_train, y_test = train_test_split(data, target, test_size=0.3)"
      ],
      "metadata": {
        "id": "WW2HfnGiRoSG"
      },
      "execution_count": null,
      "outputs": []
    },
    {
      "cell_type": "code",
      "source": [
        "#plot a simple look of the data's distribution with two features\n",
        "plt.scatter(X_train['SepalLengthCm'], X_train['PetalLengthCm'], c=y_train.values)"
      ],
      "metadata": {
        "id": "50pg_oZcTfUz",
        "colab": {
          "base_uri": "https://localhost:8080/",
          "height": 447
        },
        "outputId": "fab40170-90c1-4395-c43f-578696db9451"
      },
      "execution_count": null,
      "outputs": [
        {
          "output_type": "execute_result",
          "data": {
            "text/plain": [
              "<matplotlib.collections.PathCollection at 0x79fe8758a350>"
            ]
          },
          "metadata": {},
          "execution_count": 98
        },
        {
          "output_type": "display_data",
          "data": {
            "text/plain": [
              "<Figure size 640x480 with 1 Axes>"
            ],
            "image/png": "[encoded data removed]"
          },
          "metadata": {}
        }
      ]
    },
    {
      "cell_type": "code",
      "source": [
        "#define KNN function\n",
        "def KNN(X_train, y_train, x_test, K=1):\n",
        "  dist = np.linalg.norm(X_train.values - x_test, ord=2, axis=1)\n",
        "  sorted_arg_dist = np.argsort(dist)\n",
        "  y_nn = y_train.values[sorted_arg_dist[:K]]\n",
        "\n",
        "  return mode(y_nn)[0]"
      ],
      "metadata": {
        "id": "3po8l1APUhni"
      },
      "execution_count": null,
      "outputs": []
    },
    {
      "cell_type": "code",
      "source": [
        "#prediction phase\n",
        "y_pred = np.zeros(len(X_test))\n",
        "for i in range(len(X_test)):\n",
        "  y_pred[i] = KNN(X_train, y_train, X_test.values[i], K=5)"
      ],
      "metadata": {
        "id": "G6dyxw33WLuV"
      },
      "execution_count": null,
      "outputs": []
    },
    {
      "cell_type": "code",
      "source": [
        "#evaluation\n",
        "print(classification_report(y_test, y_pred))"
      ],
      "metadata": {
        "id": "9ycgZuo-YeTr",
        "colab": {
          "base_uri": "https://localhost:8080/"
        },
        "outputId": "d528d49f-c84c-4cf0-b1d9-372d55a34b0f"
      },
      "execution_count": null,
      "outputs": [
        {
          "output_type": "stream",
          "name": "stdout",
          "text": [
            "              precision    recall  f1-score   support\n",
            "\n",
            "           0       1.00      1.00      1.00        14\n",
            "           1       1.00      0.93      0.96        14\n",
            "           2       0.94      1.00      0.97        17\n",
            "\n",
            "    accuracy                           0.98        45\n",
            "   macro avg       0.98      0.98      0.98        45\n",
            "weighted avg       0.98      0.98      0.98        45\n",
            "\n"
          ]
        }
      ]
    },
    {
      "cell_type": "code",
      "source": [
        "#applying built-in function / p is related Minkowski metric\n",
        "knn = KNeighborsClassifier(n_neighbors=5, algorithm='kd_tree', p=2)"
      ],
      "metadata": {
        "id": "p5UMvRy7ZEoV"
      },
      "execution_count": null,
      "outputs": []
    },
    {
      "cell_type": "code",
      "source": [
        "knn.fit(X_train, y_train)"
      ],
      "metadata": {
        "id": "wmns8AoXZVFv",
        "colab": {
          "base_uri": "https://localhost:8080/",
          "height": 74
        },
        "outputId": "82cc4439-c392-47a2-a80b-676e8d6d64ce"
      },
      "execution_count": null,
      "outputs": [
        {
          "output_type": "execute_result",
          "data": {
            "text/plain": [
              "KNeighborsClassifier(algorithm='kd_tree')"
            ],
            "text/html": [
              "<style>#sk-container-id-5 {color: black;background-color: white;}#sk-container-id-5 pre{padding: 0;}#sk-container-id-5 div.sk-toggleable {background-color: white;}#sk-container-id-5 label.sk-toggleable__label {cursor: pointer;display: block;width: 100%;margin-bottom: 0;padding: 0.3em;box-sizing: border-box;text-align: center;}#sk-container-id-5 label.sk-toggleable__label-arrow:before {content: \"▸\";float: left;margin-right: 0.25em;color: #696969;}#sk-container-id-5 label.sk-toggleable__label-arrow:hover:before {color: black;}#sk-container-id-5 div.sk-estimator:hover label.sk-toggleable__label-arrow:before {color: black;}#sk-container-id-5 div.sk-toggleable__content {max-height: 0;max-width: 0;overflow: hidden;text-align: left;background-color: #f0f8ff;}#sk-container-id-5 div.sk-toggleable__content pre {margin: 0.2em;color: black;border-radius: 0.25em;background-color: #f0f8ff;}#sk-container-id-5 input.sk-toggleable__control:checked~div.sk-toggleable__content {max-height: 200px;max-width: 100%;overflow: auto;}#sk-container-id-5 input.sk-toggleable__control:checked~label.sk-toggleable__label-arrow:before {content: \"▾\";}#sk-container-id-5 div.sk-estimator input.sk-toggleable__control:checked~label.sk-toggleable__label {background-color: #d4ebff;}#sk-container-id-5 div.sk-label input.sk-toggleable__control:checked~label.sk-toggleable__label {background-color: #d4ebff;}#sk-container-id-5 input.sk-hidden--visually {border: 0;clip: rect(1px 1px 1px 1px);clip: rect(1px, 1px, 1px, 1px);height: 1px;margin: -1px;overflow: hidden;padding: 0;position: absolute;width: 1px;}#sk-container-id-5 div.sk-estimator {font-family: monospace;background-color: #f0f8ff;border: 1px dotted black;border-radius: 0.25em;box-sizing: border-box;margin-bottom: 0.5em;}#sk-container-id-5 div.sk-estimator:hover {background-color: #d4ebff;}#sk-container-id-5 div.sk-parallel-item::after {content: \"\";width: 100%;border-bottom: 1px solid gray;flex-grow: 1;}#sk-container-id-5 div.sk-label:hover label.sk-toggleable__label {background-color: #d4ebff;}#sk-container-id-5 div.sk-serial::before {content: \"\";position: absolute;border-left: 1px solid gray;box-sizing: border-box;top: 0;bottom: 0;left: 50%;z-index: 0;}#sk-container-id-5 div.sk-serial {display: flex;flex-direction: column;align-items: center;background-color: white;padding-right: 0.2em;padding-left: 0.2em;position: relative;}#sk-container-id-5 div.sk-item {position: relative;z-index: 1;}#sk-container-id-5 div.sk-parallel {display: flex;align-items: stretch;justify-content: center;background-color: white;position: relative;}#sk-container-id-5 div.sk-item::before, #sk-container-id-5 div.sk-parallel-item::before {content: \"\";position: absolute;border-left: 1px solid gray;box-sizing: border-box;top: 0;bottom: 0;left: 50%;z-index: -1;}#sk-container-id-5 div.sk-parallel-item {display: flex;flex-direction: column;z-index: 1;position: relative;background-color: white;}#sk-container-id-5 div.sk-parallel-item:first-child::after {align-self: flex-end;width: 50%;}#sk-container-id-5 div.sk-parallel-item:last-child::after {align-self: flex-start;width: 50%;}#sk-container-id-5 div.sk-parallel-item:only-child::after {width: 0;}#sk-container-id-5 div.sk-dashed-wrapped {border: 1px dashed gray;margin: 0 0.4em 0.5em 0.4em;box-sizing: border-box;padding-bottom: 0.4em;background-color: white;}#sk-container-id-5 div.sk-label label {font-family: monospace;font-weight: bold;display: inline-block;line-height: 1.2em;}#sk-container-id-5 div.sk-label-container {text-align: center;}#sk-container-id-5 div.sk-container {/* jupyter's `normalize.less` sets `[hidden] { display: none; }` but bootstrap.min.css set `[hidden] { display: none !important; }` so we also need the `!important` here to be able to override the default hidden behavior on the sphinx rendered scikit-learn.org. See: https://github.com/scikit-learn/scikit-learn/issues/21755 */display: inline-block !important;position: relative;}#sk-container-id-5 div.sk-text-repr-fallback {display: none;}</style><div id=\"sk-container-id-5\" class=\"sk-top-container\"><div class=\"sk-text-repr-fallback\"><pre>KNeighborsClassifier(algorithm=&#x27;kd_tree&#x27;)</pre><b>In a Jupyter environment, please rerun this cell to show the HTML representation or trust the notebook. <br />On GitHub, the HTML representation is unable to render, please try loading this page with nbviewer.org.</b></div><div class=\"sk-container\" hidden><div class=\"sk-item\"><div class=\"sk-estimator sk-toggleable\"><input class=\"sk-toggleable__control sk-hidden--visually\" id=\"sk-estimator-id-5\" type=\"checkbox\" checked><label for=\"sk-estimator-id-5\" class=\"sk-toggleable__label sk-toggleable__label-arrow\">KNeighborsClassifier</label><div class=\"sk-toggleable__content\"><pre>KNeighborsClassifier(algorithm=&#x27;kd_tree&#x27;)</pre></div></div></div></div></div>"
            ]
          },
          "metadata": {},
          "execution_count": 103
        }
      ]
    },
    {
      "cell_type": "code",
      "source": [
        "y_pred2 = knn.predict(X_test)"
      ],
      "metadata": {
        "id": "JZ5JYVggZhMj"
      },
      "execution_count": null,
      "outputs": []
    },
    {
      "cell_type": "code",
      "source": [
        "print(classification_report(y_test, y_pred2))"
      ],
      "metadata": {
        "id": "V2Wtjr7CZnGW",
        "colab": {
          "base_uri": "https://localhost:8080/"
        },
        "outputId": "0c6d0e87-8d08-48f6-8beb-4efa815bbc14"
      },
      "execution_count": null,
      "outputs": [
        {
          "output_type": "stream",
          "name": "stdout",
          "text": [
            "              precision    recall  f1-score   support\n",
            "\n",
            "           0       1.00      1.00      1.00        14\n",
            "           1       1.00      0.93      0.96        14\n",
            "           2       0.94      1.00      0.97        17\n",
            "\n",
            "    accuracy                           0.98        45\n",
            "   macro avg       0.98      0.98      0.98        45\n",
            "weighted avg       0.98      0.98      0.98        45\n",
            "\n"
          ]
        }
      ]
    },
    {
      "cell_type": "markdown",
      "source": [
        "#Image Classification with KNN"
      ],
      "metadata": {
        "id": "bpje0DTtGpQp"
      }
    },
    {
      "cell_type": "code",
      "source": [
        "!pwd #print work directory"
      ],
      "metadata": {
        "colab": {
          "base_uri": "https://localhost:8080/"
        },
        "id": "5Zs_cNzpFUVQ",
        "outputId": "b6369a6b-80b8-4fb9-8cd3-d1dce5de6362"
      },
      "execution_count": null,
      "outputs": [
        {
          "output_type": "stream",
          "name": "stdout",
          "text": [
            "/content\n"
          ]
        }
      ]
    },
    {
      "cell_type": "code",
      "source": [
        "!ls #list"
      ],
      "metadata": {
        "colab": {
          "base_uri": "https://localhost:8080/"
        },
        "id": "FWQU3QkCu85C",
        "outputId": "bcaf1139-82a9-4533-f77f-9d1d80634ca8"
      },
      "execution_count": null,
      "outputs": [
        {
          "output_type": "stream",
          "name": "stdout",
          "text": [
            "Advertising.csv  drive\tIris.csv  sample_data\n"
          ]
        }
      ]
    },
    {
      "cell_type": "code",
      "source": [
        "!unzip persian.zip"
      ],
      "metadata": {
        "id": "la9Ia2SSdwaO",
        "colab": {
          "base_uri": "https://localhost:8080/"
        },
        "outputId": "6bd925fb-02d0-45be-928d-73a5cb3f32aa"
      },
      "execution_count": null,
      "outputs": [
        {
          "output_type": "stream",
          "name": "stdout",
          "text": [
            "unzip:  cannot find or open persian.zip, persian.zip.zip or persian.zip.ZIP.\n"
          ]
        }
      ]
    },
    {
      "cell_type": "code",
      "source": [
        "Im_flat = np.zeros((989, 28*18))\n",
        "cnt = 0\n",
        "target = np.zeros((989))\n",
        "for i in range(10):\n",
        "  ls = os.listdir(str(i) + 'p')\n",
        "\n",
        "  for image_path in ls:\n",
        "    Im = plt.imread(str(i) + 'p/' + image_path)\n",
        "    Im_flat[cnt,:] = Im.reshape(-1) #flatten\n",
        "    target[cnt] = i\n",
        "    cnt += 1\n",
        "\n",
        "plt.imshow(Im, cmap='gray') #showing an image"
      ],
      "metadata": {
        "id": "vshwefy-d62r",
        "colab": {
          "base_uri": "https://localhost:8080/",
          "height": 87
        },
        "outputId": "5e62053e-027d-4570-ef59-65e376376caf"
      },
      "execution_count": null,
      "outputs": [
        {
          "output_type": "execute_result",
          "data": {
            "text/plain": [
              "\"Im_flat = np.zeros((989, 28*18))\\ncnt = 0\\ntarget = np.zeros((989))\\nfor i in range(10):\\n  ls = os.listdir(str(i) + 'p')\\n\\n  for image_path in ls:\\n    Im = plt.imread(str(i) + 'p/' + image_path)\\n    Im_flat[cnt,:] = Im.reshape(-1) #flatten\\n    target[cnt] = i\\n    cnt += 1\\n\\nplt.imshow(Im, cmap='gray') #showing an image\""
            ],
            "application/vnd.google.colaboratory.intrinsic+json": {
              "type": "string"
            }
          },
          "metadata": {},
          "execution_count": 109
        }
      ]
    },
    {
      "cell_type": "markdown",
      "source": [
        "#![image.png](data:image/png;base64,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)"
      ],
      "metadata": {
        "id": "7rAtHD4kh3d1"
      }
    },
    {
      "source": [
        "'''Im_flat = np.zeros((989, 28*18))\n",
        "cnt = 0\n",
        "target = np.zeros((989))\n",
        "Im = None # Initialize Im to avoid NameError if no images are found\n",
        "\n",
        "# Assuming the directories are named '0', '1', '2', ... '9'\n",
        "for i in range(10):\n",
        "  dir_path = str(i)  # Construct the directory path without 'p'\n",
        "  if os.path.exists(dir_path):  # Check if the directory exists\n",
        "    ls = os.listdir(dir_path)\n",
        "\n",
        "    for image_path in ls:\n",
        "      Im = plt.imread(os.path.join(dir_path, image_path))  # Use os.path.join for reliable path construction\n",
        "      Im_flat[cnt,:] = Im.reshape(-1) #flatten\n",
        "      target[cnt] = i\n",
        "      cnt += 1\n",
        "  else:\n",
        "    print(f\"Directory '{dir_path}' not found.\")  # Notify if a directory is missing\n",
        "\n",
        "if Im is not None: # Check if any image was loaded\n",
        "    plt.imshow(Im, cmap='gray') #showing an image\n",
        "else:\n",
        "    print(\"No images were found to display.\")'''"
      ],
      "cell_type": "code",
      "metadata": {
        "colab": {
          "base_uri": "https://localhost:8080/"
        },
        "id": "Ch8tD4trPlP2",
        "outputId": "210a13da-acd7-4b89-c99a-71b8756ae8a8"
      },
      "execution_count": null,
      "outputs": [
        {
          "output_type": "stream",
          "name": "stdout",
          "text": [
            "Directory '0' not found.\n",
            "Directory '1' not found.\n",
            "Directory '2' not found.\n",
            "Directory '3' not found.\n",
            "Directory '4' not found.\n",
            "Directory '5' not found.\n",
            "Directory '6' not found.\n",
            "Directory '7' not found.\n",
            "Directory '8' not found.\n",
            "Directory '9' not found.\n",
            "No images were found to display.\n"
          ]
        }
      ]
    },
    {
      "cell_type": "code",
      "source": [
        "X_train, X_test, y_train, y_test = train_test_split(Im_flat, target, test_size=0.2)"
      ],
      "metadata": {
        "id": "6zNTvRDVf1c5"
      },
      "execution_count": null,
      "outputs": []
    },
    {
      "cell_type": "code",
      "source": [
        "knn_image = KNeighborsClassifier(n_neighbors=5, algorithm='brute', p=2)"
      ],
      "metadata": {
        "id": "p0a3fiNTf_Fj"
      },
      "execution_count": null,
      "outputs": []
    },
    {
      "cell_type": "code",
      "source": [
        "knn_image.fit(X_train, y_train)"
      ],
      "metadata": {
        "id": "46Mu61klgASq",
        "colab": {
          "base_uri": "https://localhost:8080/",
          "height": 74
        },
        "outputId": "4222e997-9cff-4e8f-c1d3-ca581463d84a"
      },
      "execution_count": null,
      "outputs": [
        {
          "output_type": "execute_result",
          "data": {
            "text/plain": [
              "KNeighborsClassifier(algorithm='brute')"
            ],
            "text/html": [
              "<style>#sk-container-id-6 {color: black;background-color: white;}#sk-container-id-6 pre{padding: 0;}#sk-container-id-6 div.sk-toggleable {background-color: white;}#sk-container-id-6 label.sk-toggleable__label {cursor: pointer;display: block;width: 100%;margin-bottom: 0;padding: 0.3em;box-sizing: border-box;text-align: center;}#sk-container-id-6 label.sk-toggleable__label-arrow:before {content: \"▸\";float: left;margin-right: 0.25em;color: #696969;}#sk-container-id-6 label.sk-toggleable__label-arrow:hover:before {color: black;}#sk-container-id-6 div.sk-estimator:hover label.sk-toggleable__label-arrow:before {color: black;}#sk-container-id-6 div.sk-toggleable__content {max-height: 0;max-width: 0;overflow: hidden;text-align: left;background-color: #f0f8ff;}#sk-container-id-6 div.sk-toggleable__content pre {margin: 0.2em;color: black;border-radius: 0.25em;background-color: #f0f8ff;}#sk-container-id-6 input.sk-toggleable__control:checked~div.sk-toggleable__content {max-height: 200px;max-width: 100%;overflow: auto;}#sk-container-id-6 input.sk-toggleable__control:checked~label.sk-toggleable__label-arrow:before {content: \"▾\";}#sk-container-id-6 div.sk-estimator input.sk-toggleable__control:checked~label.sk-toggleable__label {background-color: #d4ebff;}#sk-container-id-6 div.sk-label input.sk-toggleable__control:checked~label.sk-toggleable__label {background-color: #d4ebff;}#sk-container-id-6 input.sk-hidden--visually {border: 0;clip: rect(1px 1px 1px 1px);clip: rect(1px, 1px, 1px, 1px);height: 1px;margin: -1px;overflow: hidden;padding: 0;position: absolute;width: 1px;}#sk-container-id-6 div.sk-estimator {font-family: monospace;background-color: #f0f8ff;border: 1px dotted black;border-radius: 0.25em;box-sizing: border-box;margin-bottom: 0.5em;}#sk-container-id-6 div.sk-estimator:hover {background-color: #d4ebff;}#sk-container-id-6 div.sk-parallel-item::after {content: \"\";width: 100%;border-bottom: 1px solid gray;flex-grow: 1;}#sk-container-id-6 div.sk-label:hover label.sk-toggleable__label {background-color: #d4ebff;}#sk-container-id-6 div.sk-serial::before {content: \"\";position: absolute;border-left: 1px solid gray;box-sizing: border-box;top: 0;bottom: 0;left: 50%;z-index: 0;}#sk-container-id-6 div.sk-serial {display: flex;flex-direction: column;align-items: center;background-color: white;padding-right: 0.2em;padding-left: 0.2em;position: relative;}#sk-container-id-6 div.sk-item {position: relative;z-index: 1;}#sk-container-id-6 div.sk-parallel {display: flex;align-items: stretch;justify-content: center;background-color: white;position: relative;}#sk-container-id-6 div.sk-item::before, #sk-container-id-6 div.sk-parallel-item::before {content: \"\";position: absolute;border-left: 1px solid gray;box-sizing: border-box;top: 0;bottom: 0;left: 50%;z-index: -1;}#sk-container-id-6 div.sk-parallel-item {display: flex;flex-direction: column;z-index: 1;position: relative;background-color: white;}#sk-container-id-6 div.sk-parallel-item:first-child::after {align-self: flex-end;width: 50%;}#sk-container-id-6 div.sk-parallel-item:last-child::after {align-self: flex-start;width: 50%;}#sk-container-id-6 div.sk-parallel-item:only-child::after {width: 0;}#sk-container-id-6 div.sk-dashed-wrapped {border: 1px dashed gray;margin: 0 0.4em 0.5em 0.4em;box-sizing: border-box;padding-bottom: 0.4em;background-color: white;}#sk-container-id-6 div.sk-label label {font-family: monospace;font-weight: bold;display: inline-block;line-height: 1.2em;}#sk-container-id-6 div.sk-label-container {text-align: center;}#sk-container-id-6 div.sk-container {/* jupyter's `normalize.less` sets `[hidden] { display: none; }` but bootstrap.min.css set `[hidden] { display: none !important; }` so we also need the `!important` here to be able to override the default hidden behavior on the sphinx rendered scikit-learn.org. See: https://github.com/scikit-learn/scikit-learn/issues/21755 */display: inline-block !important;position: relative;}#sk-container-id-6 div.sk-text-repr-fallback {display: none;}</style><div id=\"sk-container-id-6\" class=\"sk-top-container\"><div class=\"sk-text-repr-fallback\"><pre>KNeighborsClassifier(algorithm=&#x27;brute&#x27;)</pre><b>In a Jupyter environment, please rerun this cell to show the HTML representation or trust the notebook. <br />On GitHub, the HTML representation is unable to render, please try loading this page with nbviewer.org.</b></div><div class=\"sk-container\" hidden><div class=\"sk-item\"><div class=\"sk-estimator sk-toggleable\"><input class=\"sk-toggleable__control sk-hidden--visually\" id=\"sk-estimator-id-6\" type=\"checkbox\" checked><label for=\"sk-estimator-id-6\" class=\"sk-toggleable__label sk-toggleable__label-arrow\">KNeighborsClassifier</label><div class=\"sk-toggleable__content\"><pre>KNeighborsClassifier(algorithm=&#x27;brute&#x27;)</pre></div></div></div></div></div>"
            ]
          },
          "metadata": {},
          "execution_count": 113
        }
      ]
    },
    {
      "cell_type": "code",
      "source": [
        "y_pred3 = knn_image.predict(X_test)"
      ],
      "metadata": {
        "id": "OgQi5UTJgGUN"
      },
      "execution_count": null,
      "outputs": []
    },
    {
      "cell_type": "code",
      "source": [
        "print(classification_report(y_test, y_pred3))"
      ],
      "metadata": {
        "id": "lozdmeYBgKmh",
        "colab": {
          "base_uri": "https://localhost:8080/"
        },
        "outputId": "a71e786f-43a2-4303-cab1-740a679ad326"
      },
      "execution_count": null,
      "outputs": [
        {
          "output_type": "stream",
          "name": "stdout",
          "text": [
            "              precision    recall  f1-score   support\n",
            "\n",
            "         0.0       1.00      1.00      1.00       198\n",
            "\n",
            "    accuracy                           1.00       198\n",
            "   macro avg       1.00      1.00      1.00       198\n",
            "weighted avg       1.00      1.00      1.00       198\n",
            "\n"
          ]
        }
      ]
    },
    {
      "cell_type": "markdown",
      "source": [
        "#Evaluation"
      ],
      "metadata": {
        "id": "DtDuJjPayPkC"
      }
    },
    {
      "cell_type": "code",
      "source": [
        "neighbors = np.arange(2,11)\n",
        "mindowsky = [1, 2, np.inf]\n",
        "for j in mindowsky:\n",
        "  print('p is ', j, '\\n -------------------------')\n",
        "  for k in neighbors:\n",
        "    kkn_val = KNeighborsClassifier(n_neighbors=k, p=j)\n",
        "    scores = cross_val_score(kkn_val, X_train, y_train,\n",
        "                            cv=5, scoring='accuracy')\n",
        "    print('for k = ', k, 'acc is ', scores, 'mean_acc is ', scores.mean())"
      ],
      "metadata": {
        "id": "KKQwqyImyPEp",
        "colab": {
          "base_uri": "https://localhost:8080/"
        },
        "outputId": "d92dbc79-5081-48e8-fa9d-2852fed7fc3e"
      },
      "execution_count": null,
      "outputs": [
        {
          "output_type": "stream",
          "name": "stdout",
          "text": [
            "p is  1 \n",
            " -------------------------\n",
            "for k =  2 acc is  [1. 1. 1. 1. 1.] mean_acc is  1.0\n",
            "for k =  3 acc is  [1. 1. 1. 1. 1.] mean_acc is  1.0\n",
            "for k =  4 acc is  [1. 1. 1. 1. 1.] mean_acc is  1.0\n",
            "for k =  5 acc is  [1. 1. 1. 1. 1.] mean_acc is  1.0\n",
            "for k =  6 acc is  [1. 1. 1. 1. 1.] mean_acc is  1.0\n",
            "for k =  7 acc is  [1. 1. 1. 1. 1.] mean_acc is  1.0\n",
            "for k =  8 acc is  [1. 1. 1. 1. 1.] mean_acc is  1.0\n",
            "for k =  9 acc is  [1. 1. 1. 1. 1.] mean_acc is  1.0\n",
            "for k =  10 acc is  [1. 1. 1. 1. 1.] mean_acc is  1.0\n",
            "p is  2 \n",
            " -------------------------\n",
            "for k =  2 acc is  [1. 1. 1. 1. 1.] mean_acc is  1.0\n",
            "for k =  3 acc is  [1. 1. 1. 1. 1.] mean_acc is  1.0\n",
            "for k =  4 acc is  [1. 1. 1. 1. 1.] mean_acc is  1.0\n",
            "for k =  5 acc is  [1. 1. 1. 1. 1.] mean_acc is  1.0\n",
            "for k =  6 acc is  [1. 1. 1. 1. 1.] mean_acc is  1.0\n",
            "for k =  7 acc is  [1. 1. 1. 1. 1.] mean_acc is  1.0\n",
            "for k =  8 acc is  [1. 1. 1. 1. 1.] mean_acc is  1.0\n",
            "for k =  9 acc is  [1. 1. 1. 1. 1.] mean_acc is  1.0\n",
            "for k =  10 acc is  [1. 1. 1. 1. 1.] mean_acc is  1.0\n",
            "p is  inf \n",
            " -------------------------\n",
            "for k =  2 acc is  [1. 1. 1. 1. 1.] mean_acc is  1.0\n",
            "for k =  3 acc is  [1. 1. 1. 1. 1.] mean_acc is  1.0\n",
            "for k =  4 acc is  [1. 1. 1. 1. 1.] mean_acc is  1.0\n",
            "for k =  5 acc is  [1. 1. 1. 1. 1.] mean_acc is  1.0\n",
            "for k =  6 acc is  [1. 1. 1. 1. 1.] mean_acc is  1.0\n",
            "for k =  7 acc is  [1. 1. 1. 1. 1.] mean_acc is  1.0\n",
            "for k =  8 acc is  [1. 1. 1. 1. 1.] mean_acc is  1.0\n",
            "for k =  9 acc is  [1. 1. 1. 1. 1.] mean_acc is  1.0\n",
            "for k =  10 acc is  [1. 1. 1. 1. 1.] mean_acc is  1.0\n"
          ]
        }
      ]
    },
    {
      "cell_type": "markdown",
      "source": [
        "##Advertising (Regression with KNN)\n",
        "\n",
        "Dataset: https://www.kaggle.com/datasets/ishaanv/ISLR-Auto"
      ],
      "metadata": {
        "id": "9fhztwJLaWzB"
      }
    },
    {
      "cell_type": "code",
      "source": [
        "!gdown --id 1Mso_Kr0tD2TSnfXfMeP0CNyNZqPK1drt"
      ],
      "metadata": {
        "id": "X55DqFT9aWQO",
        "colab": {
          "base_uri": "https://localhost:8080/"
        },
        "outputId": "cdeadc42-ad22-475b-f004-1d34c45473db"
      },
      "execution_count": null,
      "outputs": [
        {
          "output_type": "stream",
          "name": "stdout",
          "text": [
            "/usr/local/lib/python3.10/dist-packages/gdown/__main__.py:132: FutureWarning: Option `--id` was deprecated in version 4.3.1 and will be removed in 5.0. You don't need to pass it anymore to use a file ID.\n",
            "  warnings.warn(\n",
            "Downloading...\n",
            "From: https://drive.google.com/uc?id=1Mso_Kr0tD2TSnfXfMeP0CNyNZqPK1drt\n",
            "To: /content/Advertising.csv\n",
            "100% 5.17k/5.17k [00:00<00:00, 18.0MB/s]\n"
          ]
        }
      ]
    },
    {
      "cell_type": "code",
      "source": [
        "df = pd.read_csv('Advertising.csv')\n",
        "df.head(2)"
      ],
      "metadata": {
        "id": "ZEucCXVlbH0Z",
        "colab": {
          "base_uri": "https://localhost:8080/",
          "height": 112
        },
        "outputId": "54b1cdc5-dbae-424b-9b36-64c4d3b51028"
      },
      "execution_count": null,
      "outputs": [
        {
          "output_type": "execute_result",
          "data": {
            "text/plain": [
              "   Unnamed: 0     TV  Radio  Newspaper  Sales\n",
              "0           1  230.1   37.8       69.2   22.1\n",
              "1           2   44.5   39.3       45.1   10.4"
            ],
            "text/html": [
              "\n",
              "  <div id=\"df-1ec9ce3f-87c8-4a3c-8a58-cd540288e64d\" class=\"colab-df-container\">\n",
              "    <div>\n",
              "<style scoped>\n",
              "    .dataframe tbody tr th:only-of-type {\n",
              "        vertical-align: middle;\n",
              "    }\n",
              "\n",
              "    .dataframe tbody tr th {\n",
              "        vertical-align: top;\n",
              "    }\n",
              "\n",
              "    .dataframe thead th {\n",
              "        text-align: right;\n",
              "    }\n",
              "</style>\n",
              "<table border=\"1\" class=\"dataframe\">\n",
              "  <thead>\n",
              "    <tr style=\"text-align: right;\">\n",
              "      <th></th>\n",
              "      <th>Unnamed: 0</th>\n",
              "      <th>TV</th>\n",
              "      <th>Radio</th>\n",
              "      <th>Newspaper</th>\n",
              "      <th>Sales</th>\n",
              "    </tr>\n",
              "  </thead>\n",
              "  <tbody>\n",
              "    <tr>\n",
              "      <th>0</th>\n",
              "      <td>1</td>\n",
              "      <td>230.1</td>\n",
              "      <td>37.8</td>\n",
              "      <td>69.2</td>\n",
              "      <td>22.1</td>\n",
              "    </tr>\n",
              "    <tr>\n",
              "      <th>1</th>\n",
              "      <td>2</td>\n",
              "      <td>44.5</td>\n",
              "      <td>39.3</td>\n",
              "      <td>45.1</td>\n",
              "      <td>10.4</td>\n",
              "    </tr>\n",
              "  </tbody>\n",
              "</table>\n",
              "</div>\n",
              "    <div class=\"colab-df-buttons\">\n",
              "\n",
              "  <div class=\"colab-df-container\">\n",
              "    <button class=\"colab-df-convert\" onclick=\"convertToInteractive('df-1ec9ce3f-87c8-4a3c-8a58-cd540288e64d')\"\n",
              "            title=\"Convert this dataframe to an interactive table.\"\n",
              "            style=\"display:none;\">\n",
              "\n",
              "  <svg xmlns=\"http://www.w3.org/2000/svg\" height=\"24px\" viewBox=\"0 -960 960 960\">\n",
              "    <path d=\"M120-120v-720h720v720H120Zm60-500h600v-160H180v160Zm220 220h160v-160H400v160Zm0 220h160v-160H400v160ZM180-400h160v-160H180v160Zm440 0h160v-160H620v160ZM180-180h160v-160H180v160Zm440 0h160v-160H620v160Z\"/>\n",
              "  </svg>\n",
              "    </button>\n",
              "\n",
              "  <style>\n",
              "    .colab-df-container {\n",
              "      display:flex;\n",
              "      gap: 12px;\n",
              "    }\n",
              "\n",
              "    .colab-df-convert {\n",
              "      background-color: #E8F0FE;\n",
              "      border: none;\n",
              "      border-radius: 50%;\n",
              "      cursor: pointer;\n",
              "      display: none;\n",
              "      fill: #1967D2;\n",
              "      height: 32px;\n",
              "      padding: 0 0 0 0;\n",
              "      width: 32px;\n",
              "    }\n",
              "\n",
              "    .colab-df-convert:hover {\n",
              "      background-color: #E2EBFA;\n",
              "      box-shadow: 0px 1px 2px rgba(60, 64, 67, 0.3), 0px 1px 3px 1px rgba(60, 64, 67, 0.15);\n",
              "      fill: #174EA6;\n",
              "    }\n",
              "\n",
              "    .colab-df-buttons div {\n",
              "      margin-bottom: 4px;\n",
              "    }\n",
              "\n",
              "    [theme=dark] .colab-df-convert {\n",
              "      background-color: #3B4455;\n",
              "      fill: #D2E3FC;\n",
              "    }\n",
              "\n",
              "    [theme=dark] .colab-df-convert:hover {\n",
              "      background-color: #434B5C;\n",
              "      box-shadow: 0px 1px 3px 1px rgba(0, 0, 0, 0.15);\n",
              "      filter: drop-shadow(0px 1px 2px rgba(0, 0, 0, 0.3));\n",
              "      fill: #FFFFFF;\n",
              "    }\n",
              "  </style>\n",
              "\n",
              "    <script>\n",
              "      const buttonEl =\n",
              "        document.querySelector('#df-1ec9ce3f-87c8-4a3c-8a58-cd540288e64d button.colab-df-convert');\n",
              "      buttonEl.style.display =\n",
              "        google.colab.kernel.accessAllowed ? 'block' : 'none';\n",
              "\n",
              "      async function convertToInteractive(key) {\n",
              "        const element = document.querySelector('#df-1ec9ce3f-87c8-4a3c-8a58-cd540288e64d');\n",
              "        const dataTable =\n",
              "          await google.colab.kernel.invokeFunction('convertToInteractive',\n",
              "                                                    [key], {});\n",
              "        if (!dataTable) return;\n",
              "\n",
              "        const docLinkHtml = 'Like what you see? Visit the ' +\n",
              "          '<a target=\"_blank\" href=https://colab.research.google.com/notebooks/data_table.ipynb>data table notebook</a>'\n",
              "          + ' to learn more about interactive tables.';\n",
              "        element.innerHTML = '';\n",
              "        dataTable['output_type'] = 'display_data';\n",
              "        await google.colab.output.renderOutput(dataTable, element);\n",
              "        const docLink = document.createElement('div');\n",
              "        docLink.innerHTML = docLinkHtml;\n",
              "        element.appendChild(docLink);\n",
              "      }\n",
              "    </script>\n",
              "  </div>\n",
              "\n",
              "\n",
              "<div id=\"df-1ce7b5f3-a503-434d-a156-22713bf8b195\">\n",
              "  <button class=\"colab-df-quickchart\" onclick=\"quickchart('df-1ce7b5f3-a503-434d-a156-22713bf8b195')\"\n",
              "            title=\"Suggest charts\"\n",
              "            style=\"display:none;\">\n",
              "\n",
              "<svg xmlns=\"http://www.w3.org/2000/svg\" height=\"24px\"viewBox=\"0 0 24 24\"\n",
              "     width=\"24px\">\n",
              "    <g>\n",
              "        <path d=\"M19 3H5c-1.1 0-2 .9-2 2v14c0 1.1.9 2 2 2h14c1.1 0 2-.9 2-2V5c0-1.1-.9-2-2-2zM9 17H7v-7h2v7zm4 0h-2V7h2v10zm4 0h-2v-4h2v4z\"/>\n",
              "    </g>\n",
              "</svg>\n",
              "  </button>\n",
              "\n",
              "<style>\n",
              "  .colab-df-quickchart {\n",
              "      --bg-color: #E8F0FE;\n",
              "      --fill-color: #1967D2;\n",
              "      --hover-bg-color: #E2EBFA;\n",
              "      --hover-fill-color: #174EA6;\n",
              "      --disabled-fill-color: #AAA;\n",
              "      --disabled-bg-color: #DDD;\n",
              "  }\n",
              "\n",
              "  [theme=dark] .colab-df-quickchart {\n",
              "      --bg-color: #3B4455;\n",
              "      --fill-color: #D2E3FC;\n",
              "      --hover-bg-color: #434B5C;\n",
              "      --hover-fill-color: #FFFFFF;\n",
              "      --disabled-bg-color: #3B4455;\n",
              "      --disabled-fill-color: #666;\n",
              "  }\n",
              "\n",
              "  .colab-df-quickchart {\n",
              "    background-color: var(--bg-color);\n",
              "    border: none;\n",
              "    border-radius: 50%;\n",
              "    cursor: pointer;\n",
              "    display: none;\n",
              "    fill: var(--fill-color);\n",
              "    height: 32px;\n",
              "    padding: 0;\n",
              "    width: 32px;\n",
              "  }\n",
              "\n",
              "  .colab-df-quickchart:hover {\n",
              "    background-color: var(--hover-bg-color);\n",
              "    box-shadow: 0 1px 2px rgba(60, 64, 67, 0.3), 0 1px 3px 1px rgba(60, 64, 67, 0.15);\n",
              "    fill: var(--button-hover-fill-color);\n",
              "  }\n",
              "\n",
              "  .colab-df-quickchart-complete:disabled,\n",
              "  .colab-df-quickchart-complete:disabled:hover {\n",
              "    background-color: var(--disabled-bg-color);\n",
              "    fill: var(--disabled-fill-color);\n",
              "    box-shadow: none;\n",
              "  }\n",
              "\n",
              "  .colab-df-spinner {\n",
              "    border: 2px solid var(--fill-color);\n",
              "    border-color: transparent;\n",
              "    border-bottom-color: var(--fill-color);\n",
              "    animation:\n",
              "      spin 1s steps(1) infinite;\n",
              "  }\n",
              "\n",
              "  @keyframes spin {\n",
              "    0% {\n",
              "      border-color: transparent;\n",
              "      border-bottom-color: var(--fill-color);\n",
              "      border-left-color: var(--fill-color);\n",
              "    }\n",
              "    20% {\n",
              "      border-color: transparent;\n",
              "      border-left-color: var(--fill-color);\n",
              "      border-top-color: var(--fill-color);\n",
              "    }\n",
              "    30% {\n",
              "      border-color: transparent;\n",
              "      border-left-color: var(--fill-color);\n",
              "      border-top-color: var(--fill-color);\n",
              "      border-right-color: var(--fill-color);\n",
              "    }\n",
              "    40% {\n",
              "      border-color: transparent;\n",
              "      border-right-color: var(--fill-color);\n",
              "      border-top-color: var(--fill-color);\n",
              "    }\n",
              "    60% {\n",
              "      border-color: transparent;\n",
              "      border-right-color: var(--fill-color);\n",
              "    }\n",
              "    80% {\n",
              "      border-color: transparent;\n",
              "      border-right-color: var(--fill-color);\n",
              "      border-bottom-color: var(--fill-color);\n",
              "    }\n",
              "    90% {\n",
              "      border-color: transparent;\n",
              "      border-bottom-color: var(--fill-color);\n",
              "    }\n",
              "  }\n",
              "</style>\n",
              "\n",
              "  <script>\n",
              "    async function quickchart(key) {\n",
              "      const quickchartButtonEl =\n",
              "        document.querySelector('#' + key + ' button');\n",
              "      quickchartButtonEl.disabled = true;  // To prevent multiple clicks.\n",
              "      quickchartButtonEl.classList.add('colab-df-spinner');\n",
              "      try {\n",
              "        const charts = await google.colab.kernel.invokeFunction(\n",
              "            'suggestCharts', [key], {});\n",
              "      } catch (error) {\n",
              "        console.error('Error during call to suggestCharts:', error);\n",
              "      }\n",
              "      quickchartButtonEl.classList.remove('colab-df-spinner');\n",
              "      quickchartButtonEl.classList.add('colab-df-quickchart-complete');\n",
              "    }\n",
              "    (() => {\n",
              "      let quickchartButtonEl =\n",
              "        document.querySelector('#df-1ce7b5f3-a503-434d-a156-22713bf8b195 button');\n",
              "      quickchartButtonEl.style.display =\n",
              "        google.colab.kernel.accessAllowed ? 'block' : 'none';\n",
              "    })();\n",
              "  </script>\n",
              "</div>\n",
              "\n",
              "    </div>\n",
              "  </div>\n"
            ],
            "application/vnd.google.colaboratory.intrinsic+json": {
              "type": "dataframe",
              "variable_name": "df",
              "summary": "{\n  \"name\": \"df\",\n  \"rows\": 200,\n  \"fields\": [\n    {\n      \"column\": \"Unnamed: 0\",\n      \"properties\": {\n        \"dtype\": \"number\",\n        \"std\": 57,\n        \"min\": 1,\n        \"max\": 200,\n        \"num_unique_values\": 200,\n        \"samples\": [\n          96,\n          16,\n          31\n        ],\n        \"semantic_type\": \"\",\n        \"description\": \"\"\n      }\n    },\n    {\n      \"column\": \"TV\",\n      \"properties\": {\n        \"dtype\": \"number\",\n        \"std\": 85.85423631490808,\n        \"min\": 0.7,\n        \"max\": 296.4,\n        \"num_unique_values\": 190,\n        \"samples\": [\n          287.6,\n          286.0,\n          78.2\n        ],\n        \"semantic_type\": \"\",\n        \"description\": \"\"\n      }\n    },\n    {\n      \"column\": \"Radio\",\n      \"properties\": {\n        \"dtype\": \"number\",\n        \"std\": 14.846809176168724,\n        \"min\": 0.0,\n        \"max\": 49.6,\n        \"num_unique_values\": 167,\n        \"samples\": [\n          8.2,\n          36.9,\n          44.5\n        ],\n        \"semantic_type\": \"\",\n        \"description\": \"\"\n      }\n    },\n    {\n      \"column\": \"Newspaper\",\n      \"properties\": {\n        \"dtype\": \"number\",\n        \"std\": 21.778620838522826,\n        \"min\": 0.3,\n        \"max\": 114.0,\n        \"num_unique_values\": 172,\n        \"samples\": [\n          22.3,\n          5.7,\n          17.0\n        ],\n        \"semantic_type\": \"\",\n        \"description\": \"\"\n      }\n    },\n    {\n      \"column\": \"Sales\",\n      \"properties\": {\n        \"dtype\": \"number\",\n        \"std\": 5.217456565710478,\n        \"min\": 1.6,\n        \"max\": 27.0,\n        \"num_unique_values\": 121,\n        \"samples\": [\n          11.4,\n          21.2,\n          12.9\n        ],\n        \"semantic_type\": \"\",\n        \"description\": \"\"\n      }\n    }\n  ]\n}"
            }
          },
          "metadata": {},
          "execution_count": 118
        }
      ]
    },
    {
      "cell_type": "code",
      "source": [
        "df.shape"
      ],
      "metadata": {
        "colab": {
          "base_uri": "https://localhost:8080/"
        },
        "id": "1QBqbtZ7MLBk",
        "outputId": "e45dbf14-8084-41f6-f82a-a08053a2996f"
      },
      "execution_count": null,
      "outputs": [
        {
          "output_type": "execute_result",
          "data": {
            "text/plain": [
              "(200, 5)"
            ]
          },
          "metadata": {},
          "execution_count": 119
        }
      ]
    },
    {
      "cell_type": "code",
      "source": [
        "# Select variables and draw a scatter Plot\n",
        "x = df[['TV']].values # predictor\n",
        "y = df['Sales'].values #response or output variable\n",
        "\n",
        "plt.scatter(x, y)\n",
        "plt.xlabel('TV budget in 1000$' ,fontsize=20)\n",
        "plt.ylabel('Sales in 1000 units',fontsize=20)\n",
        "plt.title('Scatter Plot',fontsize=25)"
      ],
      "metadata": {
        "id": "ViJCnuFkbVVw",
        "colab": {
          "base_uri": "https://localhost:8080/",
          "height": 516
        },
        "outputId": "da083ea3-ba26-4fa7-8f1a-f2d9fcbf7d86"
      },
      "execution_count": null,
      "outputs": [
        {
          "output_type": "execute_result",
          "data": {
            "text/plain": [
              "Text(0.5, 1.0, 'Scatter Plot')"
            ]
          },
          "metadata": {},
          "execution_count": 120
        },
        {
          "output_type": "display_data",
          "data": {
            "text/plain": [
              "<Figure size 640x480 with 1 Axes>"
            ],
            "image/png": "[encoded data removed]"
          },
          "metadata": {}
        }
      ]
    },
    {
      "cell_type": "code",
      "source": [
        "#Split Data set\n",
        "x = df[['TV', 'Radio', 'Newspaper']].values\n",
        "x_train, x_test, y_train, y_test = train_test_split(x, y, test_size=0.3)"
      ],
      "metadata": {
        "id": "DsYOXpaHbreO"
      },
      "execution_count": null,
      "outputs": []
    },
    {
      "cell_type": "code",
      "source": [
        "fig, ax = plt.subplots(figsize=(10,10))\n",
        "k_list = np.arange(1,80,1)\n",
        "knn_dict = {} # To store k and mse pairs\n",
        "for i in k_list:\n",
        "#Knn Model Creation\n",
        "    knn = KNeighborsRegressor(n_neighbors=int(i))\n",
        "    model_knn = knn.fit(x_train, y_train)\n",
        "    y_knn_pred = model_knn.predict(x_test)\n",
        "#Storing MSE\n",
        "    mse = mean_squared_error(y_test,y_knn_pred)\n",
        "    knn_dict[i] = mse\n",
        "#Plotting the results\n",
        "ax.plot(np.array(list(knn_dict.keys())).astype(float), np.array(list(knn_dict.values())).astype(float))\n",
        "ax.set_xlabel('K-VALUE', fontsize=20)\n",
        "ax.set_ylabel('MSE', fontsize=20)\n",
        "ax.set_title('ELBOW PLOT', fontsize=28)"
      ],
      "metadata": {
        "id": "_wtMMWBWbyik",
        "colab": {
          "base_uri": "https://localhost:8080/",
          "height": 833
        },
        "outputId": "32e28ce9-8bc8-4d32-86ac-5a5b176509f1"
      },
      "execution_count": null,
      "outputs": [
        {
          "output_type": "execute_result",
          "data": {
            "text/plain": [
              "Text(0.5, 1.0, 'ELBOW PLOT')"
            ]
          },
          "metadata": {},
          "execution_count": 122
        },
        {
          "output_type": "display_data",
          "data": {
            "text/plain": [
              "<Figure size 1000x1000 with 1 Axes>"
            ],
            "image/png": "[encoded data removed]"
          },
          "metadata": {}
        }
      ]
    },
    {
      "cell_type": "code",
      "source": [
        "mean_squared_error(y_test, y_knn_pred)"
      ],
      "metadata": {
        "id": "afRB0JzGcP7K",
        "colab": {
          "base_uri": "https://localhost:8080/"
        },
        "outputId": "d3ed8666-9ebb-4b26-b43f-0f3b64add73d"
      },
      "execution_count": null,
      "outputs": [
        {
          "output_type": "execute_result",
          "data": {
            "text/plain": [
              "12.167653981733695"
            ]
          },
          "metadata": {},
          "execution_count": 123
        }
      ]
    },
    {
      "cell_type": "code",
      "source": [
        "k = 3\n",
        "knn = KNeighborsRegressor(n_neighbors=k)\n",
        "model_knn = knn.fit(x_train, y_train)\n",
        "y_knn_pred = model_knn.predict(x_test)"
      ],
      "metadata": {
        "id": "kchR9GPp2dTE"
      },
      "execution_count": null,
      "outputs": []
    },
    {
      "cell_type": "code",
      "source": [
        "r2_score(y_test, y_knn_pred)"
      ],
      "metadata": {
        "colab": {
          "base_uri": "https://localhost:8080/"
        },
        "id": "q7vAGFOd2WVs",
        "outputId": "a73853e1-91b3-4ca9-c702-a216df4d593e"
      },
      "execution_count": null,
      "outputs": [
        {
          "output_type": "execute_result",
          "data": {
            "text/plain": [
              "0.8954874392998091"
            ]
          },
          "metadata": {},
          "execution_count": 125
        }
      ]
    }
  ],
  "metadata": {
    "colab": {
      "provenance": [],
      "machine_shape": "hm",
      "gpuType": "L4",
      "include_colab_link": true
    },
    "kernelspec": {
      "display_name": "Python 3",
      "name": "python3"
    },
    "accelerator": "GPU"
  },
  "nbformat": 4,
  "nbformat_minor": 0
}
