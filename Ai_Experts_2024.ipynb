{
  "nbformat": 4,
  "nbformat_minor": 0,
  "metadata": {
    "colab": {
      "provenance": [],
      "authorship_tag": "ABX9TyOTUOM4UoCbP2aS6sQuM+cu",
      "include_colab_link": true
    },
    "kernelspec": {
      "name": "python3",
      "display_name": "Python 3"
    },
    "language_info": {
      "name": "python"
    }
  },
  "cells": [
    {
      "cell_type": "markdown",
      "metadata": {
        "id": "view-in-github",
        "colab_type": "text"
      },
      "source": [
        "<a href=\"https://colab.research.google.com/github/Homabeyrami/ML_Project_Pra/blob/main/Ai_Experts_2024.ipynb\" target=\"_parent\"><img src=\"https://colab.research.google.com/assets/colab-badge.svg\" alt=\"Open In Colab\"/></a>"
      ]
    },
    {
      "cell_type": "code",
      "source": [
        "import plotly.graph_objects as go\n",
        "\n",
        "# داده‌ها را به شکل مورد نظر تنظیم کنید\n",
        "labels = [\n",
        "    'Fundamentals', 'Subtopic 3',\n",
        "    'Data Science', '1: Roadmaps', '1.1: Fundamentals', 'DATA COLLECTION TECHNIQUES', 'Gathering Data', 'Web Scraping',\n",
        "    'Scripting - Extracting Data from websites or API\\'s', 'Awesome Public Datasets', 'Web Scraping Cheat Sheet',\n",
        "    'Database Basics', 'Data Frames & Series', 'Extract, Transform, Load (ETL)', 'Requesting vs BI vs Analytics',\n",
        "    'Relational vs non-relational databases', 'SQL Basics', 'NoSQL Basics', 'Data Wrangling', 'Cleaning Data',\n",
        "    'Handling Missing Values', 'Data Normalization', 'Data Transformation', 'Data Storage', 'Cloud Storage',\n",
        "    'Local Storage', 'Data Access', 'API Access', 'Direct Database Queries',\n",
        "    'Data Processing', '2.1: Data Preprocessing', 'Feature Engineering', 'Feature Selection', 'Feature Extraction',\n",
        "    'Feature Scaling', 'Data Augmentation', 'Synthetic Data Generation', 'Data Augmentation Techniques', 'Data Split',\n",
        "    'Training Set', 'Validation Set', 'Test Set', '2.2: Data Visualization', 'Visualization Tools', 'Matplotlib',\n",
        "    'Seaborn', 'Plotly', 'Visualization Techniques', 'Histograms', 'Scatter Plots', 'Box Plots', 'Heatmaps',\n",
        "    'Machine Learning', '3.1: Algorithms', 'Supervised Learning', 'Regression', 'Linear Regression', 'Polynomial Regression',\n",
        "    'Classification', 'Logistic Regression', 'Decision Trees', 'Random Forest', 'Support Vector Machines (SVM)',\n",
        "    'k-Nearest Neighbors (k-NN)', 'Unsupervised Learning', 'Clustering', 'k-Means Clustering', 'Hierarchical Clustering',\n",
        "    'Dimensionality Reduction', 'Principal Component Analysis (PCA)', 't-Distributed Stochastic Neighbor Embedding (t-SNE)',\n",
        "    'Reinforcement Learning', 'Q-Learning', 'Deep Q-Networks (DQN)', 'Policy Gradient Methods', '3.2: Model Evaluation',\n",
        "    'Metrics', 'Accuracy', 'Precision', 'Recall', 'F1 Score', 'ROC-AUC', 'Techniques', 'Cross-Validation',\n",
        "    'Hyperparameter Tuning', 'Grid Search', 'Random Search', '3.3: Model Deployment', 'Deployment Methods',\n",
        "    'On-Premises Deployment', 'Cloud Deployment', 'Edge Deployment', 'Model as a Service (MaaS)', 'Tools and Platforms',\n",
        "    'Docker', 'Kubernetes', 'TensorFlow Serving', 'AWS SageMaker', 'Google AI Platform', 'Deep Learning', '4.1: Neural Networks',\n",
        "    'Basics', 'Perceptrons', 'Multilayer Perceptrons (MLP)', 'Activation Functions', 'Sigmoid', 'Tanh', 'ReLU',\n",
        "    'Advanced Architectures', 'Convolutional Neural Networks (CNN)', 'Recurrent Neural Networks (RNN)',\n",
        "    'Long Short-Term Memory Networks (LSTM)', 'Generative Adversarial Networks (GAN)', '4.2: Training Techniques',\n",
        "    'Optimization Algorithms', 'Gradient Descent', 'Stochastic Gradient Descent (SGD)', 'Adam Optimizer',\n",
        "    'Regularization Techniques', 'Dropout', 'Batch Normalization', 'Weight Regularization (L1, L2)', '4.3: Frameworks and Libraries',\n",
        "    'TensorFlow', 'Keras', 'TensorBoard', 'PyTorch', 'TorchVision', 'Ignite', 'Other Libraries', 'Scikit-learn', 'OpenCV', 'NLTK',\n",
        "    'Ethics and Best Practices', '5.1: Ethical Considerations', 'Bias and Fairness', 'Privacy', 'Transparency', 'Accountability',\n",
        "    '5.2: Best Practices', 'Documentation', 'Version Control', 'Collaboration', 'Continuous Learning', 'Advanced Topics',\n",
        "    '6.1: Natural Language Processing (NLP)', 'Text Classification', 'Named Entity Recognition (NER)', 'Sentiment Analysis',\n",
        "    '6.2: Computer Vision', 'Image Classification', 'Object Detection', 'Segmentation', '6.3: Reinforcement Learning',\n",
        "    'Advanced Algorithms', 'Real-World Applications'\n",
        "]\n",
        "\n",
        "# ایجاد نمودار دایره‌ای\n",
        "fig = go.Figure(go.Sunburst(\n",
        "    labels = labels,\n",
        "    parents = [\n",
        "        '', 'Fundamentals',\n",
        "        '', 'Data Science', '1: Roadmaps', '1.1: Fundamentals', 'DATA COLLECTION TECHNIQUES', 'Gathering Data',\n",
        "        'Web Scraping', 'Scripting - Extracting Data from websites or API\\'s', 'Awesome Public Datasets', 'Web Scraping Cheat Sheet',\n",
        "        'Database Basics', 'Data Frames & Series', 'Extract, Transform, Load (ETL)', 'Requesting vs BI vs Analytics',\n",
        "        'Relational vs non-relational databases', 'SQL Basics', 'NoSQL Basics', 'Data Wrangling', 'Cleaning Data',\n",
        "        'Handling Missing Values', 'Data Normalization', 'Data Transformation', 'Data Storage', 'Cloud Storage',\n",
        "        'Local Storage', 'Data Access', 'API Access', 'Direct Database Queries',\n",
        "        '', 'Data Processing', '2.1: Data Preprocessing', 'Feature Engineering', 'Feature Selection', 'Feature Extraction',\n",
        "        'Feature Scaling', 'Data Augmentation', 'Synthetic Data Generation', 'Data Augmentation Techniques', 'Data Split',\n",
        "        'Training Set', 'Validation Set', 'Test Set', '2.2: Data Visualization', 'Visualization Tools', 'Matplotlib',\n",
        "        'Seaborn', 'Plotly', 'Visualization Techniques', 'Histograms', 'Scatter Plots', 'Box Plots', 'Heatmaps',\n",
        "        '', 'Machine Learning', '3.1: Algorithms', 'Supervised Learning', 'Regression', 'Linear Regression', 'Polynomial Regression',\n",
        "        'Classification', 'Logistic Regression', 'Decision Trees', 'Random Forest', 'Support Vector Machines (SVM)',\n",
        "        'k-Nearest Neighbors (k-NN)', 'Unsupervised Learning', 'Clustering', 'k-Means Clustering', 'Hierarchical Clustering',\n",
        "        'Dimensionality Reduction', 'Principal Component Analysis (PCA)', 't-Distributed Stochastic Neighbor Embedding (t-SNE)',\n",
        "        'Reinforcement Learning', 'Q-Learning', 'Deep Q-Networks (DQN)', 'Policy Gradient Methods', '3.2: Model Evaluation',\n",
        "        'Metrics', 'Accuracy', 'Precision', 'Recall', 'F1 Score', 'ROC-AUC', 'Techniques', 'Cross-Validation',\n",
        "        'Hyperparameter Tuning', 'Grid Search', 'Random Search', '3.3: Model Deployment', 'Deployment Methods',\n",
        "        'On-Premises Deployment', 'Cloud Deployment', 'Edge Deployment', 'Model as a Service (MaaS)', 'Tools and Platforms',\n",
        "        'Docker', 'Kubernetes', 'TensorFlow Serving', 'AWS SageMaker', 'Google AI Platform', '', 'Deep Learning', '4.1: Neural Networks',\n",
        "        'Basics', 'Perceptrons', 'Multilayer Perceptrons (MLP)', 'Activation Functions', 'Sigmoid', 'Tanh', 'ReLU',\n",
        "        'Advanced Architectures', 'Convolutional Neural Networks (CNN)', 'Recurrent Neural Networks (RNN)',\n",
        "        'Long Short-Term Memory Networks (LSTM)', 'Generative Adversarial Networks (GAN)', '4.2: Training Techniques',\n",
        "        'Optimization Algorithms', 'Gradient Descent', 'Stochastic Gradient Descent (SGD)', 'Adam Optimizer',\n",
        "        'Regularization Techniques', 'Dropout', 'Batch Normalization', 'Weight Regularization (L1, L2)', '4.3: Frameworks and Libraries',\n",
        "        'TensorFlow', 'Keras', 'TensorBoard', 'PyTorch', 'TorchVision', 'Ignite', 'Other Libraries', 'Scikit-learn', 'OpenCV', 'NLTK',\n",
        "        '', 'Ethics and Best Practices', '5.1: Ethical Considerations', 'Bias and Fairness', 'Privacy', 'Transparency', 'Accountability',\n",
        "        '5.2: Best Practices', 'Documentation', 'Version Control', 'Collaboration', 'Continuous Learning', '', 'Advanced Topics',\n",
        "        '6.1: Natural Language Processing (NLP)', 'Text Classification', 'Named Entity Recognition (NER)', 'Sentiment Analysis',\n",
        "        '6.2: Computer Vision', 'Image Classification', 'Object Detection', 'Segmentation', '6.3: Reinforcement Learning',\n",
        "        'Advanced Algorithms', 'Real-World Applications'\n",
        "    ],\n",
        "    branchvalues=\"total\",\n",
        "))\n",
        "\n",
        "fig.update_layout(margin = dict(t=0, l=0, r=0, b=0))\n",
        "\n",
        "fig.show()"
      ],
      "metadata": {
        "colab": {
          "base_uri": "https://localhost:8080/",
          "height": 542
        },
        "id": "oPmqUdVHJLjH",
        "outputId": "2d9ba3c7-ff4b-43a1-a0a5-0f6107b290d7"
      },
      "execution_count": null,
      "outputs": [
        {
          "output_type": "display_data",
          "data": {
            "text/html": [
              "<html>\n",
              "<head><meta charset=\"utf-8\" /></head>\n",
              "<body>\n",
              "    <div>            <script src=\"https://cdnjs.cloudflare.com/ajax/libs/mathjax/2.7.5/MathJax.js?config=TeX-AMS-MML_SVG\"></script><script type=\"text/javascript\">if (window.MathJax && window.MathJax.Hub && window.MathJax.Hub.Config) {window.MathJax.Hub.Config({SVG: {font: \"STIX-Web\"}});}</script>                <script type=\"text/javascript\">window.PlotlyConfig = {MathJaxConfig: 'local'};</script>\n",
              "        <script charset=\"utf-8\" src=\"https://cdn.plot.ly/plotly-2.24.1.min.js\"></script>                <div id=\"4f0eac8a-8221-4971-a389-763ef2be061e\" class=\"plotly-graph-div\" style=\"height:525px; width:100%;\"></div>            <script type=\"text/javascript\">                                    window.PLOTLYENV=window.PLOTLYENV || {};                                    if (document.getElementById(\"4f0eac8a-8221-4971-a389-763ef2be061e\")) {                    Plotly.newPlot(                        \"4f0eac8a-8221-4971-a389-763ef2be061e\",                        [{\"branchvalues\":\"total\",\"labels\":[\"Fundamentals\",\"Subtopic 3\",\"Data Science\",\"1: Roadmaps\",\"1.1: Fundamentals\",\"DATA COLLECTION TECHNIQUES\",\"Gathering Data\",\"Web Scraping\",\"Scripting - Extracting Data from websites or API's\",\"Awesome Public Datasets\",\"Web Scraping Cheat Sheet\",\"Database Basics\",\"Data Frames & Series\",\"Extract, Transform, Load (ETL)\",\"Requesting vs BI vs Analytics\",\"Relational vs non-relational databases\",\"SQL Basics\",\"NoSQL Basics\",\"Data Wrangling\",\"Cleaning Data\",\"Handling Missing Values\",\"Data Normalization\",\"Data Transformation\",\"Data Storage\",\"Cloud Storage\",\"Local Storage\",\"Data Access\",\"API Access\",\"Direct Database Queries\",\"Data Processing\",\"2.1: Data Preprocessing\",\"Feature Engineering\",\"Feature Selection\",\"Feature Extraction\",\"Feature Scaling\",\"Data Augmentation\",\"Synthetic Data Generation\",\"Data Augmentation Techniques\",\"Data Split\",\"Training Set\",\"Validation Set\",\"Test Set\",\"2.2: Data Visualization\",\"Visualization Tools\",\"Matplotlib\",\"Seaborn\",\"Plotly\",\"Visualization Techniques\",\"Histograms\",\"Scatter Plots\",\"Box Plots\",\"Heatmaps\",\"Machine Learning\",\"3.1: Algorithms\",\"Supervised Learning\",\"Regression\",\"Linear Regression\",\"Polynomial Regression\",\"Classification\",\"Logistic Regression\",\"Decision Trees\",\"Random Forest\",\"Support Vector Machines (SVM)\",\"k-Nearest Neighbors (k-NN)\",\"Unsupervised Learning\",\"Clustering\",\"k-Means Clustering\",\"Hierarchical Clustering\",\"Dimensionality Reduction\",\"Principal Component Analysis (PCA)\",\"t-Distributed Stochastic Neighbor Embedding (t-SNE)\",\"Reinforcement Learning\",\"Q-Learning\",\"Deep Q-Networks (DQN)\",\"Policy Gradient Methods\",\"3.2: Model Evaluation\",\"Metrics\",\"Accuracy\",\"Precision\",\"Recall\",\"F1 Score\",\"ROC-AUC\",\"Techniques\",\"Cross-Validation\",\"Hyperparameter Tuning\",\"Grid Search\",\"Random Search\",\"3.3: Model Deployment\",\"Deployment Methods\",\"On-Premises Deployment\",\"Cloud Deployment\",\"Edge Deployment\",\"Model as a Service (MaaS)\",\"Tools and Platforms\",\"Docker\",\"Kubernetes\",\"TensorFlow Serving\",\"AWS SageMaker\",\"Google AI Platform\",\"Deep Learning\",\"4.1: Neural Networks\",\"Basics\",\"Perceptrons\",\"Multilayer Perceptrons (MLP)\",\"Activation Functions\",\"Sigmoid\",\"Tanh\",\"ReLU\",\"Advanced Architectures\",\"Convolutional Neural Networks (CNN)\",\"Recurrent Neural Networks (RNN)\",\"Long Short-Term Memory Networks (LSTM)\",\"Generative Adversarial Networks (GAN)\",\"4.2: Training Techniques\",\"Optimization Algorithms\",\"Gradient Descent\",\"Stochastic Gradient Descent (SGD)\",\"Adam Optimizer\",\"Regularization Techniques\",\"Dropout\",\"Batch Normalization\",\"Weight Regularization (L1, L2)\",\"4.3: Frameworks and Libraries\",\"TensorFlow\",\"Keras\",\"TensorBoard\",\"PyTorch\",\"TorchVision\",\"Ignite\",\"Other Libraries\",\"Scikit-learn\",\"OpenCV\",\"NLTK\",\"Ethics and Best Practices\",\"5.1: Ethical Considerations\",\"Bias and Fairness\",\"Privacy\",\"Transparency\",\"Accountability\",\"5.2: Best Practices\",\"Documentation\",\"Version Control\",\"Collaboration\",\"Continuous Learning\",\"Advanced Topics\",\"6.1: Natural Language Processing (NLP)\",\"Text Classification\",\"Named Entity Recognition (NER)\",\"Sentiment Analysis\",\"6.2: Computer Vision\",\"Image Classification\",\"Object Detection\",\"Segmentation\",\"6.3: Reinforcement Learning\",\"Advanced Algorithms\",\"Real-World Applications\"],\"parents\":[\"\",\"Fundamentals\",\"\",\"Data Science\",\"1: Roadmaps\",\"1.1: Fundamentals\",\"DATA COLLECTION TECHNIQUES\",\"Gathering Data\",\"Web Scraping\",\"Scripting - Extracting Data from websites or API's\",\"Awesome Public Datasets\",\"Web Scraping Cheat Sheet\",\"Database Basics\",\"Data Frames & Series\",\"Extract, Transform, Load (ETL)\",\"Requesting vs BI vs Analytics\",\"Relational vs non-relational databases\",\"SQL Basics\",\"NoSQL Basics\",\"Data Wrangling\",\"Cleaning Data\",\"Handling Missing Values\",\"Data Normalization\",\"Data Transformation\",\"Data Storage\",\"Cloud Storage\",\"Local Storage\",\"Data Access\",\"API Access\",\"Direct Database Queries\",\"\",\"Data Processing\",\"2.1: Data Preprocessing\",\"Feature Engineering\",\"Feature Selection\",\"Feature Extraction\",\"Feature Scaling\",\"Data Augmentation\",\"Synthetic Data Generation\",\"Data Augmentation Techniques\",\"Data Split\",\"Training Set\",\"Validation Set\",\"Test Set\",\"2.2: Data Visualization\",\"Visualization Tools\",\"Matplotlib\",\"Seaborn\",\"Plotly\",\"Visualization Techniques\",\"Histograms\",\"Scatter Plots\",\"Box Plots\",\"Heatmaps\",\"\",\"Machine Learning\",\"3.1: Algorithms\",\"Supervised Learning\",\"Regression\",\"Linear Regression\",\"Polynomial Regression\",\"Classification\",\"Logistic Regression\",\"Decision Trees\",\"Random Forest\",\"Support Vector Machines (SVM)\",\"k-Nearest Neighbors (k-NN)\",\"Unsupervised Learning\",\"Clustering\",\"k-Means Clustering\",\"Hierarchical Clustering\",\"Dimensionality Reduction\",\"Principal Component Analysis (PCA)\",\"t-Distributed Stochastic Neighbor Embedding (t-SNE)\",\"Reinforcement Learning\",\"Q-Learning\",\"Deep Q-Networks (DQN)\",\"Policy Gradient Methods\",\"3.2: Model Evaluation\",\"Metrics\",\"Accuracy\",\"Precision\",\"Recall\",\"F1 Score\",\"ROC-AUC\",\"Techniques\",\"Cross-Validation\",\"Hyperparameter Tuning\",\"Grid Search\",\"Random Search\",\"3.3: Model Deployment\",\"Deployment Methods\",\"On-Premises Deployment\",\"Cloud Deployment\",\"Edge Deployment\",\"Model as a Service (MaaS)\",\"Tools and Platforms\",\"Docker\",\"Kubernetes\",\"TensorFlow Serving\",\"AWS SageMaker\",\"Google AI Platform\",\"\",\"Deep Learning\",\"4.1: Neural Networks\",\"Basics\",\"Perceptrons\",\"Multilayer Perceptrons (MLP)\",\"Activation Functions\",\"Sigmoid\",\"Tanh\",\"ReLU\",\"Advanced Architectures\",\"Convolutional Neural Networks (CNN)\",\"Recurrent Neural Networks (RNN)\",\"Long Short-Term Memory Networks (LSTM)\",\"Generative Adversarial Networks (GAN)\",\"4.2: Training Techniques\",\"Optimization Algorithms\",\"Gradient Descent\",\"Stochastic Gradient Descent (SGD)\",\"Adam Optimizer\",\"Regularization Techniques\",\"Dropout\",\"Batch Normalization\",\"Weight Regularization (L1, L2)\",\"4.3: Frameworks and Libraries\",\"TensorFlow\",\"Keras\",\"TensorBoard\",\"PyTorch\",\"TorchVision\",\"Ignite\",\"Other Libraries\",\"Scikit-learn\",\"OpenCV\",\"NLTK\",\"\",\"Ethics and Best Practices\",\"5.1: Ethical Considerations\",\"Bias and Fairness\",\"Privacy\",\"Transparency\",\"Accountability\",\"5.2: Best Practices\",\"Documentation\",\"Version Control\",\"Collaboration\",\"Continuous Learning\",\"\",\"Advanced Topics\",\"6.1: Natural Language Processing (NLP)\",\"Text Classification\",\"Named Entity Recognition (NER)\",\"Sentiment Analysis\",\"6.2: Computer Vision\",\"Image Classification\",\"Object Detection\",\"Segmentation\",\"6.3: Reinforcement Learning\",\"Advanced Algorithms\",\"Real-World Applications\"],\"type\":\"sunburst\"}],                        {\"template\":{\"data\":{\"histogram2dcontour\":[{\"type\":\"histogram2dcontour\",\"colorbar\":{\"outlinewidth\":0,\"ticks\":\"\"},\"colorscale\":[[0.0,\"#0d0887\"],[0.1111111111111111,\"#46039f\"],[0.2222222222222222,\"#7201a8\"],[0.3333333333333333,\"#9c179e\"],[0.4444444444444444,\"#bd3786\"],[0.5555555555555556,\"#d8576b\"],[0.6666666666666666,\"#ed7953\"],[0.7777777777777778,\"#fb9f3a\"],[0.8888888888888888,\"#fdca26\"],[1.0,\"#f0f921\"]]}],\"choropleth\":[{\"type\":\"choropleth\",\"colorbar\":{\"outlinewidth\":0,\"ticks\":\"\"}}],\"histogram2d\":[{\"type\":\"histogram2d\",\"colorbar\":{\"outlinewidth\":0,\"ticks\":\"\"},\"colorscale\":[[0.0,\"#0d0887\"],[0.1111111111111111,\"#46039f\"],[0.2222222222222222,\"#7201a8\"],[0.3333333333333333,\"#9c179e\"],[0.4444444444444444,\"#bd3786\"],[0.5555555555555556,\"#d8576b\"],[0.6666666666666666,\"#ed7953\"],[0.7777777777777778,\"#fb9f3a\"],[0.8888888888888888,\"#fdca26\"],[1.0,\"#f0f921\"]]}],\"heatmap\":[{\"type\":\"heatmap\",\"colorbar\":{\"outlinewidth\":0,\"ticks\":\"\"},\"colorscale\":[[0.0,\"#0d0887\"],[0.1111111111111111,\"#46039f\"],[0.2222222222222222,\"#7201a8\"],[0.3333333333333333,\"#9c179e\"],[0.4444444444444444,\"#bd3786\"],[0.5555555555555556,\"#d8576b\"],[0.6666666666666666,\"#ed7953\"],[0.7777777777777778,\"#fb9f3a\"],[0.8888888888888888,\"#fdca26\"],[1.0,\"#f0f921\"]]}],\"heatmapgl\":[{\"type\":\"heatmapgl\",\"colorbar\":{\"outlinewidth\":0,\"ticks\":\"\"},\"colorscale\":[[0.0,\"#0d0887\"],[0.1111111111111111,\"#46039f\"],[0.2222222222222222,\"#7201a8\"],[0.3333333333333333,\"#9c179e\"],[0.4444444444444444,\"#bd3786\"],[0.5555555555555556,\"#d8576b\"],[0.6666666666666666,\"#ed7953\"],[0.7777777777777778,\"#fb9f3a\"],[0.8888888888888888,\"#fdca26\"],[1.0,\"#f0f921\"]]}],\"contourcarpet\":[{\"type\":\"contourcarpet\",\"colorbar\":{\"outlinewidth\":0,\"ticks\":\"\"}}],\"contour\":[{\"type\":\"contour\",\"colorbar\":{\"outlinewidth\":0,\"ticks\":\"\"},\"colorscale\":[[0.0,\"#0d0887\"],[0.1111111111111111,\"#46039f\"],[0.2222222222222222,\"#7201a8\"],[0.3333333333333333,\"#9c179e\"],[0.4444444444444444,\"#bd3786\"],[0.5555555555555556,\"#d8576b\"],[0.6666666666666666,\"#ed7953\"],[0.7777777777777778,\"#fb9f3a\"],[0.8888888888888888,\"#fdca26\"],[1.0,\"#f0f921\"]]}],\"surface\":[{\"type\":\"surface\",\"colorbar\":{\"outlinewidth\":0,\"ticks\":\"\"},\"colorscale\":[[0.0,\"#0d0887\"],[0.1111111111111111,\"#46039f\"],[0.2222222222222222,\"#7201a8\"],[0.3333333333333333,\"#9c179e\"],[0.4444444444444444,\"#bd3786\"],[0.5555555555555556,\"#d8576b\"],[0.6666666666666666,\"#ed7953\"],[0.7777777777777778,\"#fb9f3a\"],[0.8888888888888888,\"#fdca26\"],[1.0,\"#f0f921\"]]}],\"mesh3d\":[{\"type\":\"mesh3d\",\"colorbar\":{\"outlinewidth\":0,\"ticks\":\"\"}}],\"scatter\":[{\"fillpattern\":{\"fillmode\":\"overlay\",\"size\":10,\"solidity\":0.2},\"type\":\"scatter\"}],\"parcoords\":[{\"type\":\"parcoords\",\"line\":{\"colorbar\":{\"outlinewidth\":0,\"ticks\":\"\"}}}],\"scatterpolargl\":[{\"type\":\"scatterpolargl\",\"marker\":{\"colorbar\":{\"outlinewidth\":0,\"ticks\":\"\"}}}],\"bar\":[{\"error_x\":{\"color\":\"#2a3f5f\"},\"error_y\":{\"color\":\"#2a3f5f\"},\"marker\":{\"line\":{\"color\":\"#E5ECF6\",\"width\":0.5},\"pattern\":{\"fillmode\":\"overlay\",\"size\":10,\"solidity\":0.2}},\"type\":\"bar\"}],\"scattergeo\":[{\"type\":\"scattergeo\",\"marker\":{\"colorbar\":{\"outlinewidth\":0,\"ticks\":\"\"}}}],\"scatterpolar\":[{\"type\":\"scatterpolar\",\"marker\":{\"colorbar\":{\"outlinewidth\":0,\"ticks\":\"\"}}}],\"histogram\":[{\"marker\":{\"pattern\":{\"fillmode\":\"overlay\",\"size\":10,\"solidity\":0.2}},\"type\":\"histogram\"}],\"scattergl\":[{\"type\":\"scattergl\",\"marker\":{\"colorbar\":{\"outlinewidth\":0,\"ticks\":\"\"}}}],\"scatter3d\":[{\"type\":\"scatter3d\",\"line\":{\"colorbar\":{\"outlinewidth\":0,\"ticks\":\"\"}},\"marker\":{\"colorbar\":{\"outlinewidth\":0,\"ticks\":\"\"}}}],\"scattermapbox\":[{\"type\":\"scattermapbox\",\"marker\":{\"colorbar\":{\"outlinewidth\":0,\"ticks\":\"\"}}}],\"scatterternary\":[{\"type\":\"scatterternary\",\"marker\":{\"colorbar\":{\"outlinewidth\":0,\"ticks\":\"\"}}}],\"scattercarpet\":[{\"type\":\"scattercarpet\",\"marker\":{\"colorbar\":{\"outlinewidth\":0,\"ticks\":\"\"}}}],\"carpet\":[{\"aaxis\":{\"endlinecolor\":\"#2a3f5f\",\"gridcolor\":\"white\",\"linecolor\":\"white\",\"minorgridcolor\":\"white\",\"startlinecolor\":\"#2a3f5f\"},\"baxis\":{\"endlinecolor\":\"#2a3f5f\",\"gridcolor\":\"white\",\"linecolor\":\"white\",\"minorgridcolor\":\"white\",\"startlinecolor\":\"#2a3f5f\"},\"type\":\"carpet\"}],\"table\":[{\"cells\":{\"fill\":{\"color\":\"#EBF0F8\"},\"line\":{\"color\":\"white\"}},\"header\":{\"fill\":{\"color\":\"#C8D4E3\"},\"line\":{\"color\":\"white\"}},\"type\":\"table\"}],\"barpolar\":[{\"marker\":{\"line\":{\"color\":\"#E5ECF6\",\"width\":0.5},\"pattern\":{\"fillmode\":\"overlay\",\"size\":10,\"solidity\":0.2}},\"type\":\"barpolar\"}],\"pie\":[{\"automargin\":true,\"type\":\"pie\"}]},\"layout\":{\"autotypenumbers\":\"strict\",\"colorway\":[\"#636efa\",\"#EF553B\",\"#00cc96\",\"#ab63fa\",\"#FFA15A\",\"#19d3f3\",\"#FF6692\",\"#B6E880\",\"#FF97FF\",\"#FECB52\"],\"font\":{\"color\":\"#2a3f5f\"},\"hovermode\":\"closest\",\"hoverlabel\":{\"align\":\"left\"},\"paper_bgcolor\":\"white\",\"plot_bgcolor\":\"#E5ECF6\",\"polar\":{\"bgcolor\":\"#E5ECF6\",\"angularaxis\":{\"gridcolor\":\"white\",\"linecolor\":\"white\",\"ticks\":\"\"},\"radialaxis\":{\"gridcolor\":\"white\",\"linecolor\":\"white\",\"ticks\":\"\"}},\"ternary\":{\"bgcolor\":\"#E5ECF6\",\"aaxis\":{\"gridcolor\":\"white\",\"linecolor\":\"white\",\"ticks\":\"\"},\"baxis\":{\"gridcolor\":\"white\",\"linecolor\":\"white\",\"ticks\":\"\"},\"caxis\":{\"gridcolor\":\"white\",\"linecolor\":\"white\",\"ticks\":\"\"}},\"coloraxis\":{\"colorbar\":{\"outlinewidth\":0,\"ticks\":\"\"}},\"colorscale\":{\"sequential\":[[0.0,\"#0d0887\"],[0.1111111111111111,\"#46039f\"],[0.2222222222222222,\"#7201a8\"],[0.3333333333333333,\"#9c179e\"],[0.4444444444444444,\"#bd3786\"],[0.5555555555555556,\"#d8576b\"],[0.6666666666666666,\"#ed7953\"],[0.7777777777777778,\"#fb9f3a\"],[0.8888888888888888,\"#fdca26\"],[1.0,\"#f0f921\"]],\"sequentialminus\":[[0.0,\"#0d0887\"],[0.1111111111111111,\"#46039f\"],[0.2222222222222222,\"#7201a8\"],[0.3333333333333333,\"#9c179e\"],[0.4444444444444444,\"#bd3786\"],[0.5555555555555556,\"#d8576b\"],[0.6666666666666666,\"#ed7953\"],[0.7777777777777778,\"#fb9f3a\"],[0.8888888888888888,\"#fdca26\"],[1.0,\"#f0f921\"]],\"diverging\":[[0,\"#8e0152\"],[0.1,\"#c51b7d\"],[0.2,\"#de77ae\"],[0.3,\"#f1b6da\"],[0.4,\"#fde0ef\"],[0.5,\"#f7f7f7\"],[0.6,\"#e6f5d0\"],[0.7,\"#b8e186\"],[0.8,\"#7fbc41\"],[0.9,\"#4d9221\"],[1,\"#276419\"]]},\"xaxis\":{\"gridcolor\":\"white\",\"linecolor\":\"white\",\"ticks\":\"\",\"title\":{\"standoff\":15},\"zerolinecolor\":\"white\",\"automargin\":true,\"zerolinewidth\":2},\"yaxis\":{\"gridcolor\":\"white\",\"linecolor\":\"white\",\"ticks\":\"\",\"title\":{\"standoff\":15},\"zerolinecolor\":\"white\",\"automargin\":true,\"zerolinewidth\":2},\"scene\":{\"xaxis\":{\"backgroundcolor\":\"#E5ECF6\",\"gridcolor\":\"white\",\"linecolor\":\"white\",\"showbackground\":true,\"ticks\":\"\",\"zerolinecolor\":\"white\",\"gridwidth\":2},\"yaxis\":{\"backgroundcolor\":\"#E5ECF6\",\"gridcolor\":\"white\",\"linecolor\":\"white\",\"showbackground\":true,\"ticks\":\"\",\"zerolinecolor\":\"white\",\"gridwidth\":2},\"zaxis\":{\"backgroundcolor\":\"#E5ECF6\",\"gridcolor\":\"white\",\"linecolor\":\"white\",\"showbackground\":true,\"ticks\":\"\",\"zerolinecolor\":\"white\",\"gridwidth\":2}},\"shapedefaults\":{\"line\":{\"color\":\"#2a3f5f\"}},\"annotationdefaults\":{\"arrowcolor\":\"#2a3f5f\",\"arrowhead\":0,\"arrowwidth\":1},\"geo\":{\"bgcolor\":\"white\",\"landcolor\":\"#E5ECF6\",\"subunitcolor\":\"white\",\"showland\":true,\"showlakes\":true,\"lakecolor\":\"white\"},\"title\":{\"x\":0.05},\"mapbox\":{\"style\":\"light\"}}},\"margin\":{\"t\":0,\"l\":0,\"r\":0,\"b\":0}},                        {\"responsive\": true}                    ).then(function(){\n",
              "                            \n",
              "var gd = document.getElementById('4f0eac8a-8221-4971-a389-763ef2be061e');\n",
              "var x = new MutationObserver(function (mutations, observer) {{\n",
              "        var display = window.getComputedStyle(gd).display;\n",
              "        if (!display || display === 'none') {{\n",
              "            console.log([gd, 'removed!']);\n",
              "            Plotly.purge(gd);\n",
              "            observer.disconnect();\n",
              "        }}\n",
              "}});\n",
              "\n",
              "// Listen for the removal of the full notebook cells\n",
              "var notebookContainer = gd.closest('#notebook-container');\n",
              "if (notebookContainer) {{\n",
              "    x.observe(notebookContainer, {childList: true});\n",
              "}}\n",
              "\n",
              "// Listen for the clearing of the current output cell\n",
              "var outputEl = gd.closest('.output');\n",
              "if (outputEl) {{\n",
              "    x.observe(outputEl, {childList: true});\n",
              "}}\n",
              "\n",
              "                        })                };                            </script>        </div>\n",
              "</body>\n",
              "</html>"
            ]
          },
          "metadata": {}
        }
      ]
    }
  ]
}