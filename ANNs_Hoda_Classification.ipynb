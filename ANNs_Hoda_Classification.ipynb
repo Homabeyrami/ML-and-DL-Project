{
  "cells": [
    {
      "cell_type": "markdown",
      "metadata": {
        "id": "view-in-github",
        "colab_type": "text"
      },
      "source": [
        "<a href=\"https://colab.research.google.com/github/Homabeyrami/ML_Project_Pra/blob/main/DS02_Session19_ANNs_Hoda_Classification.ipynb\" target=\"_parent\"><img src=\"https://colab.research.google.com/assets/colab-badge.svg\" alt=\"Open In Colab\"/></a>"
      ]
    },
    {
      "cell_type": "code",
      "execution_count": 1,
      "metadata": {
        "id": "lIYdn1woOS1n",
        "colab": {
          "base_uri": "https://localhost:8080/"
        },
        "outputId": "2d67e033-74bd-41f2-acd2-201d81a927dc"
      },
      "outputs": [
        {
          "output_type": "stream",
          "name": "stdout",
          "text": [
            "Cloning into 'HodaDatasetReader'...\n",
            "remote: Enumerating objects: 24, done.\u001b[K\n",
            "remote: Total 24 (delta 0), reused 0 (delta 0), pack-reused 24\u001b[K\n",
            "Receiving objects: 100% (24/24), 6.34 MiB | 3.17 MiB/s, done.\n",
            "Resolving deltas: 100% (6/6), done.\n"
          ]
        }
      ],
      "source": [
        "!git clone https://github.com/amir-saniyan/HodaDatasetReader.git"
      ]
    },
    {
      "cell_type": "code",
      "source": [
        "from google.colab import drive\n",
        "drive.mount('/content/drive')"
      ],
      "metadata": {
        "colab": {
          "base_uri": "https://localhost:8080/"
        },
        "id": "BBl0pDnj6dyF",
        "outputId": "5bc3f6b3-92f4-4fb2-f722-05b62ca3af46"
      },
      "execution_count": 2,
      "outputs": [
        {
          "output_type": "stream",
          "name": "stdout",
          "text": [
            "Mounted at /content/drive\n"
          ]
        }
      ]
    },
    {
      "cell_type": "code",
      "source": [
        "import numpy as np\n",
        "import pandas as pd\n",
        "import matplotlib.pyplot as plt\n",
        "import seaborn as sns\n",
        "import os\n",
        "import cv2\n",
        "import tensorflow as tf\n",
        "from tensorflow.keras.preprocessing.image import ImageDataGenerator\n",
        "from tensorflow.keras.preprocessing import image\n",
        "from tensorflow.keras.optimizers import RMSprop\n",
        "from tensorflow.keras.callbacks import ReduceLROnPlateau\n",
        "from sklearn.model_selection import train_test_split\n",
        "from sklearn.metrics import classification_report,confusion_matrix\n",
        "import tensorflow.keras.backend as K\n",
        "import warnings\n",
        "warnings.filterwarnings('ignore')\n"
      ],
      "metadata": {
        "id": "InPaK0Lt81I8"
      },
      "execution_count": 3,
      "outputs": []
    },
    {
      "cell_type": "code",
      "source": [
        "from HodaDatasetReader.HodaDatasetReader import read_hoda_dataset"
      ],
      "metadata": {
        "id": "uI0yEKZck_wy"
      },
      "execution_count": 4,
      "outputs": []
    },
    {
      "cell_type": "code",
      "source": [
        "X_train, y_train = read_hoda_dataset('/content/HodaDatasetReader/DigitDB/Train 60000.cdb')\n",
        "X_test, y_test = read_hoda_dataset('/content/HodaDatasetReader/DigitDB/Test 20000.cdb')\n"
      ],
      "metadata": {
        "id": "9ySdmm1ziT2O",
        "collapsed": true
      },
      "execution_count": 5,
      "outputs": []
    },
    {
      "cell_type": "code",
      "source": [
        "X_train.shape"
      ],
      "metadata": {
        "id": "cy4rnPafmK_y",
        "outputId": "0c07188e-c80c-4507-8343-7e45b853a8af",
        "colab": {
          "base_uri": "https://localhost:8080/"
        }
      },
      "execution_count": 6,
      "outputs": [
        {
          "output_type": "execute_result",
          "data": {
            "text/plain": [
              "(60000, 1024)"
            ]
          },
          "metadata": {},
          "execution_count": 6
        }
      ]
    },
    {
      "cell_type": "code",
      "source": [
        "y_train.shape"
      ],
      "metadata": {
        "colab": {
          "base_uri": "https://localhost:8080/"
        },
        "id": "gI6eOOTK29qZ",
        "outputId": "bb8fcfc9-984c-4fe6-dd6f-3bec7f28e4c5"
      },
      "execution_count": 7,
      "outputs": [
        {
          "output_type": "execute_result",
          "data": {
            "text/plain": [
              "(60000,)"
            ]
          },
          "metadata": {},
          "execution_count": 7
        }
      ]
    },
    {
      "cell_type": "code",
      "source": [
        "y_train"
      ],
      "metadata": {
        "colab": {
          "base_uri": "https://localhost:8080/"
        },
        "id": "4cVsWAe35uMs",
        "outputId": "8363bf7b-4103-4e38-a397-40283a630523"
      },
      "execution_count": 8,
      "outputs": [
        {
          "output_type": "execute_result",
          "data": {
            "text/plain": [
              "array([6., 5., 0., ..., 2., 6., 6.], dtype=float32)"
            ]
          },
          "metadata": {},
          "execution_count": 8
        }
      ]
    },
    {
      "cell_type": "code",
      "source": [
        "plt.figure(figsize=(12,5))\n",
        "for i in range(10):\n",
        "  plt.subplot(2, 5, i+1)\n",
        "  plt.imshow(X_train[i].reshape(32,32))\n",
        "  plt.title(y_train[i])\n",
        "\n",
        "plt.tight_layout()\n",
        "plt.show()"
      ],
      "metadata": {
        "colab": {
          "base_uri": "https://localhost:8080/",
          "height": 520
        },
        "id": "VIKa96gqn9cm",
        "outputId": "a8bd408e-a544-40a1-8aca-127830d5bc38"
      },
      "execution_count": 9,
      "outputs": [
        {
          "output_type": "display_data",
          "data": {
            "text/plain": [
              "<Figure size 1200x500 with 10 Axes>"
            ],
            "image/png": "[encoded data removed]"
          },
          "metadata": {}
        }
      ]
    },
    {
      "cell_type": "code",
      "source": [
        "##Import the libraries\n",
        "from tensorflow.keras.models import Model\n",
        "from tensorflow.keras.layers import Input, Dense"
      ],
      "metadata": {
        "id": "sWADaqrfJHZq"
      },
      "execution_count": 10,
      "outputs": []
    },
    {
      "cell_type": "code",
      "source": [
        "# Building the neural network (Here we are using 2 hidden layers and one branched layer with 10 neurons each)\n",
        "##define input layer\n",
        "input_layer = Input(shape=(1024,), name='input_layer')\n",
        "\n",
        "##Defining 3 hidden layers\n",
        "Layer_1 = Dense(32, activation=\"relu\", name='Layer_1')(input_layer)\n",
        "Layer_2 = Dense(64, activation=\"relu\", name='Layer_2')(Layer_1)\n",
        "Layer_3 = Dense(32, activation=\"relu\", name='Layer_3')(Layer_2)\n",
        "\n",
        "##Defining output layer\n",
        "output = Dense(10, activation=\"softmax\", name='output')(Layer_3)\n",
        "\n",
        "##Defining the model by specifying the input and output layers\n",
        "model = Model(inputs=input_layer, outputs=output)"
      ],
      "metadata": {
        "id": "l_i9_PFqJIMU"
      },
      "execution_count": 11,
      "outputs": []
    },
    {
      "cell_type": "code",
      "source": [
        "##summary of the model\n",
        "model.summary()"
      ],
      "metadata": {
        "colab": {
          "base_uri": "https://localhost:8080/"
        },
        "id": "QMOptieYJk9m",
        "outputId": "8c9f1699-2750-4f7f-d0a6-a1a8e556875a"
      },
      "execution_count": 12,
      "outputs": [
        {
          "output_type": "stream",
          "name": "stdout",
          "text": [
            "Model: \"model\"\n",
            "_________________________________________________________________\n",
            " Layer (type)                Output Shape              Param #   \n",
            "=================================================================\n",
            " input_layer (InputLayer)    [(None, 1024)]            0         \n",
            "                                                                 \n",
            " Layer_1 (Dense)             (None, 32)                32800     \n",
            "                                                                 \n",
            " Layer_2 (Dense)             (None, 64)                2112      \n",
            "                                                                 \n",
            " Layer_3 (Dense)             (None, 32)                2080      \n",
            "                                                                 \n",
            " output (Dense)              (None, 10)                330       \n",
            "                                                                 \n",
            "=================================================================\n",
            "Total params: 37322 (145.79 KB)\n",
            "Trainable params: 37322 (145.79 KB)\n",
            "Non-trainable params: 0 (0.00 Byte)\n",
            "_________________________________________________________________\n"
          ]
        }
      ]
    },
    {
      "cell_type": "code",
      "source": [
        "## defining the optimiser and loss function\n",
        "from keras.optimizers import Adam\n",
        "from keras.losses import SparseCategoricalCrossentropy\n",
        "from keras.metrics import F1Score, Accuracy\n",
        "\n",
        "adam = Adam(learning_rate=0.01, beta_1=0.91, beta_2=0.998)\n",
        "scce = SparseCategoricalCrossentropy()\n",
        "#metric = Accuracy()\n",
        "\n",
        "model.compile(optimizer=adam, loss=scce, metrics=['accuracy'])\n",
        "\n",
        "##training the model\n",
        "history = model.fit(X_train, y_train, epochs=10, verbose=True,\n",
        "                    batch_size=32, validation_data=(X_test, y_test))"
      ],
      "metadata": {
        "colab": {
          "base_uri": "https://localhost:8080/"
        },
        "id": "MEfqziEJJmq1",
        "outputId": "1bfd7005-34ca-40e0-aff4-9f609a47b2ca"
      },
      "execution_count": 13,
      "outputs": [
        {
          "output_type": "stream",
          "name": "stdout",
          "text": [
            "Epoch 1/10\n",
            "1875/1875 [==============================] - 8s 3ms/step - loss: 0.1985 - accuracy: 0.9454 - val_loss: 0.2475 - val_accuracy: 0.9298\n",
            "Epoch 2/10\n",
            "1875/1875 [==============================] - 6s 3ms/step - loss: 0.1269 - accuracy: 0.9681 - val_loss: 0.2194 - val_accuracy: 0.9470\n",
            "Epoch 3/10\n",
            "1875/1875 [==============================] - 6s 3ms/step - loss: 0.1091 - accuracy: 0.9731 - val_loss: 0.2869 - val_accuracy: 0.9446\n",
            "Epoch 4/10\n",
            "1875/1875 [==============================] - 6s 3ms/step - loss: 0.0999 - accuracy: 0.9762 - val_loss: 0.2061 - val_accuracy: 0.9520\n",
            "Epoch 5/10\n",
            "1875/1875 [==============================] - 6s 3ms/step - loss: 0.0958 - accuracy: 0.9774 - val_loss: 0.2292 - val_accuracy: 0.9527\n",
            "Epoch 6/10\n",
            "1875/1875 [==============================] - 6s 3ms/step - loss: 0.0867 - accuracy: 0.9793 - val_loss: 0.2192 - val_accuracy: 0.9553\n",
            "Epoch 7/10\n",
            "1875/1875 [==============================] - 6s 3ms/step - loss: 0.0811 - accuracy: 0.9815 - val_loss: 0.2526 - val_accuracy: 0.9449\n",
            "Epoch 8/10\n",
            "1875/1875 [==============================] - 6s 3ms/step - loss: 0.0852 - accuracy: 0.9812 - val_loss: 0.2404 - val_accuracy: 0.9578\n",
            "Epoch 9/10\n",
            "1875/1875 [==============================] - 6s 3ms/step - loss: 0.0887 - accuracy: 0.9809 - val_loss: 0.2331 - val_accuracy: 0.9585\n",
            "Epoch 10/10\n",
            "1875/1875 [==============================] - 6s 3ms/step - loss: 0.0781 - accuracy: 0.9828 - val_loss: 0.2721 - val_accuracy: 0.9549\n"
          ]
        }
      ]
    },
    {
      "cell_type": "code",
      "source": [
        "plt.plot(history.history['loss'])\n",
        "plt.plot(history.history['val_loss'])"
      ],
      "metadata": {
        "colab": {
          "base_uri": "https://localhost:8080/",
          "height": 447
        },
        "id": "hWqny_4O6ZZs",
        "outputId": "59fe4f28-82c7-4944-9e8c-610ce538896c"
      },
      "execution_count": 14,
      "outputs": [
        {
          "output_type": "execute_result",
          "data": {
            "text/plain": [
              "[<matplotlib.lines.Line2D at 0x78f2dc2c6920>]"
            ]
          },
          "metadata": {},
          "execution_count": 14
        },
        {
          "output_type": "display_data",
          "data": {
            "text/plain": [
              "<Figure size 640x480 with 1 Axes>"
            ],
            "image/png": "[encoded data removed]"
          },
          "metadata": {}
        }
      ]
    }
  ],
  "metadata": {
    "colab": {
      "provenance": [],
      "gpuType": "A100",
      "machine_shape": "hm",
      "include_colab_link": true
    },
    "kernelspec": {
      "display_name": "Python 3",
      "name": "python3"
    },
    "accelerator": "GPU"
  },
  "nbformat": 4,
  "nbformat_minor": 0
}
